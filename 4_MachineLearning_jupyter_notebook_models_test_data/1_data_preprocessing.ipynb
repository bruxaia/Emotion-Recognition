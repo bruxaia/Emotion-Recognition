{
 "cells": [
  {
   "cell_type": "code",
   "execution_count": 1,
   "id": "d5f112b8",
   "metadata": {},
   "outputs": [],
   "source": [
    "import numpy as np\n",
    "import cv2\n",
    "import pandas as pd\n",
    "import os\n",
    "import pickle"
   ]
  },
  {
   "cell_type": "markdown",
   "id": "a506b391",
   "metadata": {},
   "source": [
    "# Face Detection Model\n",
    "- Load the model"
   ]
  },
  {
   "cell_type": "code",
   "execution_count": 2,
   "id": "ff2dab49",
   "metadata": {},
   "outputs": [],
   "source": [
    "face_detection_model = './models/res10_300x300_ssd_iter_140000.caffemodel'\n",
    "face_detection_proto = './models/deploy.prototxt.txt'\n",
    "face_descriptor = './models/openface.nn4.small2.v1.t7'\n",
    "# Load models using cv2 dnn\n",
    "detector_model = cv2.dnn.readNetFromCaffe(face_detection_proto,face_detection_model)\n",
    "description_model = cv2.dnn.readNetFromTorch(face_descriptor)"
   ]
  },
  {
   "cell_type": "code",
   "execution_count": 3,
   "id": "427ff824",
   "metadata": {},
   "outputs": [
    {
     "name": "stdout",
     "output_type": "stream",
     "text": [
      "\u001b[34mAngelina Jolie\u001b[m\u001b[m     \u001b[34mCristiano Ronaldo\u001b[m\u001b[m  \u001b[34mJoe Biden\u001b[m\u001b[m          \u001b[34mRobert Downey Jr\u001b[m\u001b[m\n",
      "\u001b[34mBarack Obama\u001b[m\u001b[m       \u001b[34mDonald Trump\u001b[m\u001b[m       \u001b[34mLeonardo DiCaprio\u001b[m\u001b[m  \u001b[34mScarlett Johansson\u001b[m\u001b[m\n"
     ]
    }
   ],
   "source": [
    "!ls images"
   ]
  },
  {
   "cell_type": "code",
   "execution_count": null,
   "id": "0ff0b66d",
   "metadata": {},
   "outputs": [
    {
     "name": "stderr",
     "output_type": "stream",
     "text": [
      "2023-11-29 13:44:07.748 Python[42315:1431702] WARNING: Secure coding is not enabled for restorable state! Enable secure coding by implementing NSApplicationDelegate.applicationSupportsSecureRestorableState: and returning YES.\n"
     ]
    }
   ],
   "source": [
    "# consider sample image\n",
    "img = cv2.imread('./images/Joe Biden/joe103.jpg')\n",
    "cv2.imshow('Joe Biden',img)\n",
    "cv2.waitKey(0)\n",
    "cv2.destroyAllWindows()"
   ]
  },
  {
   "cell_type": "code",
   "execution_count": null,
   "id": "30393a68",
   "metadata": {},
   "outputs": [],
   "source": [
    "# step-1: face detection \n",
    "# image =  img.copy()\n",
    "# h,w = image.shape[:2]\n",
    "# img_blob = cv2.dnn.blobFromImage(image,1,(300,300),(104,177,123),swapRB=False,crop =False)\n",
    "# set the input\n",
    "# detector_model.setInput(img_blob)\n",
    "# detections = detector_model.forward()\n",
    "\n",
    "# if len(detections) >0:\n",
    "#     i = np.argmax(detections[0,0,:,2]) # consider the face with max confidence score \n",
    "#     confidence = detections[0,0,i,2]\n",
    "#     if confidence >0.5:\n",
    "#         box = detections[0,0,i,3:7]*np.array([w,h,w,h])\n",
    "#         (startx,starty,endx,endy) = box.astype('int')\n",
    "        # just for reference: draw bounding \n",
    "#         img_draw = image.copy()\n",
    "#         cv2.rectangle(img_draw,(startx,starty),(endx,endy),(0,255,0))\n",
    "\n",
    "#         # step -2: feauture extraction or embedding\n",
    "#         roi = image[starty:endy,startx:endx].copy()\n",
    "#         # get the face descriptors\n",
    "#         faceblob = cv2.dnn.blobFromImage(roi,1/255,(96,96),(0,0,0),swapRB = True,crop = True)\n",
    "#         description_model.setInput(faceblob)\n",
    "#         vectors = description_model.forward()\n",
    "#         print(vectors)\n",
    "        \n",
    "# cv2.imshow('sample',img)\n",
    "# cv2.imshow('draw_image',img_draw)\n",
    "# cv2.waitKey(0)\n",
    "# cv2.destroyAllWindows()"
   ]
  },
  {
   "cell_type": "code",
   "execution_count": null,
   "id": "945dd6d2",
   "metadata": {},
   "outputs": [],
   "source": [
    "def helper(image_path):\n",
    "    img = cv2.imread(image_path)\n",
    "    # step-1: face detection \n",
    "    image =  img.copy()\n",
    "    h,w = image.shape[:2]\n",
    "    img_blob = cv2.dnn.blobFromImage(image,1,(300,300),(104,177,123),swapRB=False,crop =False)\n",
    "    # set the input\n",
    "    detector_model.setInput(img_blob)\n",
    "    detections = detector_model.forward()\n",
    "\n",
    "    if len(detections) >0:\n",
    "        i = np.argmax(detections[0,0,:,2]) # consider the face with max confidence score \n",
    "        confidence = detections[0,0,i,2]\n",
    "        if confidence >0.5:\n",
    "            box = detections[0,0,i,3:7]*np.array([w,h,w,h])\n",
    "            (startx,starty,endx,endy) = box.astype('int')\n",
    "            # just for reference: draw bounding \n",
    "    #         img_draw = image.copy()\n",
    "    #         cv2.rectangle(img_draw,(startx,starty),(endx,endy),(0,255,0))\n",
    "\n",
    "            # step -2: feauture extraction or embedding\n",
    "            roi = image[starty:endy,startx:endx].copy()\n",
    "            # get the face descriptors\n",
    "            faceblob = cv2.dnn.blobFromImage(roi,1/255,(96,96),(0,0,0),swapRB = True,crop = True)\n",
    "            description_model.setInput(faceblob)\n",
    "            vectors = description_model.forward()\n",
    "            \n",
    "            return vectors # if the face is detected or None\n",
    "        \n",
    "    return None\n"
   ]
  },
  {
   "cell_type": "code",
   "execution_count": null,
   "id": "3c074352",
   "metadata": {},
   "outputs": [],
   "source": [
    "helper('./images/Joe Biden/joe103.jpg')"
   ]
  },
  {
   "cell_type": "code",
   "execution_count": null,
   "id": "e0764ab5",
   "metadata": {},
   "outputs": [],
   "source": [
    "data = dict(data=[], label=[])"
   ]
  },
  {
   "cell_type": "markdown",
   "id": "50c32a4a",
   "metadata": {},
   "source": [
    "# apply helper function to all images and get face descriptors"
   ]
  },
  {
   "cell_type": "code",
   "execution_count": null,
   "id": "17bbdc3b",
   "metadata": {
    "code_folding": []
   },
   "outputs": [],
   "source": [
    "folders = os.listdir('images')\n",
    "for folder in folders:\n",
    "    filenames = os.listdir('images/{}'.format(folder))\n",
    "    for filename in filenames:\n",
    "        try:\n",
    "            vector = helper('./images/{}/{}'.format(folder,filename))\n",
    "            if vector is not None:\n",
    "                data['data'].append(vector)\n",
    "                data['label'].append(folder)\n",
    "                print('Feature extracted successfully')\n",
    "                \n",
    "        except:\n",
    "            pass\n",
    "                        "
   ]
  },
  {
   "cell_type": "code",
   "execution_count": null,
   "id": "fbe30b3c",
   "metadata": {},
   "outputs": [],
   "source": [
    "data.keys()"
   ]
  },
  {
   "cell_type": "code",
   "execution_count": null,
   "id": "d4d8e8ba",
   "metadata": {},
   "outputs": [],
   "source": [
    "pd.Series(data['label']).value_counts()"
   ]
  },
  {
   "cell_type": "code",
   "execution_count": null,
   "id": "a5bd86dc",
   "metadata": {},
   "outputs": [],
   "source": [
    "# save the data \n",
    "pickle.dump(data,open('data_face_features.pickle',mode='wb'))"
   ]
  }
 ],
 "metadata": {
  "kernelspec": {
   "display_name": "Python 3 (ipykernel)",
   "language": "python",
   "name": "python3"
  },
  "language_info": {
   "codemirror_mode": {
    "name": "ipython",
    "version": 3
   },
   "file_extension": ".py",
   "mimetype": "text/x-python",
   "name": "python",
   "nbconvert_exporter": "python",
   "pygments_lexer": "ipython3",
   "version": "3.10.9"
  }
 },
 "nbformat": 4,
 "nbformat_minor": 5
}
