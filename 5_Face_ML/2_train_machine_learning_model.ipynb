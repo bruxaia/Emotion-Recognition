{
 "cells": [
  {
   "cell_type": "code",
   "execution_count": 1,
   "metadata": {},
   "outputs": [],
   "source": [
    "import numpy as np\n",
    "import pandas as pd\n",
    "import pickle"
   ]
  },
  {
   "cell_type": "markdown",
   "metadata": {},
   "source": [
    "# 1. Data\n",
    "- Load data from pickle file\n",
    "- split the data into independent and dependent\n",
    "- split to train and test set"
   ]
  },
  {
   "cell_type": "code",
   "execution_count": 2,
   "metadata": {},
   "outputs": [
    {
     "ename": "FileNotFoundError",
     "evalue": "[Errno 2] No such file or directory: 'data_face_features.pickle'",
     "output_type": "error",
     "traceback": [
      "\u001b[0;31m---------------------------------------------------------------------------\u001b[0m",
      "\u001b[0;31mFileNotFoundError\u001b[0m                         Traceback (most recent call last)",
      "Cell \u001b[0;32mIn[2], line 1\u001b[0m\n\u001b[0;32m----> 1\u001b[0m data \u001b[38;5;241m=\u001b[39m pickle\u001b[38;5;241m.\u001b[39mload(\u001b[38;5;28;43mopen\u001b[39;49m\u001b[43m(\u001b[49m\u001b[38;5;124;43m'\u001b[39;49m\u001b[38;5;124;43mdata_face_features.pickle\u001b[39;49m\u001b[38;5;124;43m'\u001b[39;49m\u001b[43m,\u001b[49m\u001b[43mmode\u001b[49m\u001b[38;5;241;43m=\u001b[39;49m\u001b[38;5;124;43m'\u001b[39;49m\u001b[38;5;124;43mrb\u001b[39;49m\u001b[38;5;124;43m'\u001b[39;49m\u001b[43m)\u001b[49m)\n",
      "File \u001b[0;32m/opt/homebrew/lib/python3.10/site-packages/IPython/core/interactiveshell.py:310\u001b[0m, in \u001b[0;36m_modified_open\u001b[0;34m(file, *args, **kwargs)\u001b[0m\n\u001b[1;32m    303\u001b[0m \u001b[38;5;28;01mif\u001b[39;00m file \u001b[38;5;129;01min\u001b[39;00m {\u001b[38;5;241m0\u001b[39m, \u001b[38;5;241m1\u001b[39m, \u001b[38;5;241m2\u001b[39m}:\n\u001b[1;32m    304\u001b[0m     \u001b[38;5;28;01mraise\u001b[39;00m \u001b[38;5;167;01mValueError\u001b[39;00m(\n\u001b[1;32m    305\u001b[0m         \u001b[38;5;124mf\u001b[39m\u001b[38;5;124m\"\u001b[39m\u001b[38;5;124mIPython won\u001b[39m\u001b[38;5;124m'\u001b[39m\u001b[38;5;124mt let you open fd=\u001b[39m\u001b[38;5;132;01m{\u001b[39;00mfile\u001b[38;5;132;01m}\u001b[39;00m\u001b[38;5;124m by default \u001b[39m\u001b[38;5;124m\"\u001b[39m\n\u001b[1;32m    306\u001b[0m         \u001b[38;5;124m\"\u001b[39m\u001b[38;5;124mas it is likely to crash IPython. If you know what you are doing, \u001b[39m\u001b[38;5;124m\"\u001b[39m\n\u001b[1;32m    307\u001b[0m         \u001b[38;5;124m\"\u001b[39m\u001b[38;5;124myou can use builtins\u001b[39m\u001b[38;5;124m'\u001b[39m\u001b[38;5;124m open.\u001b[39m\u001b[38;5;124m\"\u001b[39m\n\u001b[1;32m    308\u001b[0m     )\n\u001b[0;32m--> 310\u001b[0m \u001b[38;5;28;01mreturn\u001b[39;00m \u001b[43mio_open\u001b[49m\u001b[43m(\u001b[49m\u001b[43mfile\u001b[49m\u001b[43m,\u001b[49m\u001b[43m \u001b[49m\u001b[38;5;241;43m*\u001b[39;49m\u001b[43margs\u001b[49m\u001b[43m,\u001b[49m\u001b[43m \u001b[49m\u001b[38;5;241;43m*\u001b[39;49m\u001b[38;5;241;43m*\u001b[39;49m\u001b[43mkwargs\u001b[49m\u001b[43m)\u001b[49m\n",
      "\u001b[0;31mFileNotFoundError\u001b[0m: [Errno 2] No such file or directory: 'data_face_features.pickle'"
     ]
    }
   ],
   "source": [
    "data = pickle.load(open('data_face_features.pickle',mode='rb'))"
   ]
  },
  {
   "cell_type": "code",
   "execution_count": null,
   "metadata": {},
   "outputs": [],
   "source": [
    "X = np.array(data['data']) # indendepent variable\n",
    "y = np.array(data['label']) # dependent variable"
   ]
  },
  {
   "cell_type": "code",
   "execution_count": null,
   "metadata": {},
   "outputs": [],
   "source": [
    "X.shape , y.shape"
   ]
  },
  {
   "cell_type": "code",
   "execution_count": null,
   "metadata": {},
   "outputs": [],
   "source": [
    "X = X.reshape(-1,128)\n",
    "X.shape"
   ]
  },
  {
   "cell_type": "code",
   "execution_count": null,
   "metadata": {},
   "outputs": [],
   "source": [
    "# split the data into train and test\n",
    "from sklearn.model_selection import train_test_split"
   ]
  },
  {
   "cell_type": "code",
   "execution_count": null,
   "metadata": {},
   "outputs": [],
   "source": [
    "x_train,x_test,y_train,y_test = train_test_split(X,y,train_size=0.8,random_state=0)"
   ]
  },
  {
   "cell_type": "code",
   "execution_count": null,
   "metadata": {},
   "outputs": [],
   "source": [
    "x_train.shape, x_test.shape, y_train.shape, y_test.shape"
   ]
  },
  {
   "cell_type": "markdown",
   "metadata": {},
   "source": [
    "# 2. Train Machine Learning"
   ]
  },
  {
   "cell_type": "code",
   "execution_count": null,
   "metadata": {},
   "outputs": [],
   "source": [
    "from sklearn.linear_model import LogisticRegression\n",
    "from sklearn.svm import SVC\n",
    "from sklearn.ensemble import RandomForestClassifier\n",
    "from sklearn.ensemble import VotingClassifier\n",
    "from sklearn.metrics import classification_report, accuracy_score, f1_score"
   ]
  },
  {
   "cell_type": "markdown",
   "metadata": {},
   "source": [
    "### Logistic Regression"
   ]
  },
  {
   "cell_type": "code",
   "execution_count": null,
   "metadata": {},
   "outputs": [],
   "source": [
    "model_logistic = LogisticRegression()\n",
    "model_logistic.fit(x_train,y_train) # training logistic regression"
   ]
  },
  {
   "cell_type": "code",
   "execution_count": null,
   "metadata": {},
   "outputs": [],
   "source": [
    "def get_report(model, x_train,y_train,x_test,y_test):\n",
    "    y_pred_train = model.predict(x_train)\n",
    "    y_pred_test = model.predict(x_test)\n",
    "\n",
    "    # accuracy score\n",
    "    acc_train = accuracy_score(y_train,y_pred_train)\n",
    "    acc_test = accuracy_score(y_test,y_pred_test)\n",
    "\n",
    "    # f1 score\n",
    "    f1_score_train = f1_score(y_train,y_pred_train,average='macro')\n",
    "    f1_score_test = f1_score(y_test,y_pred_test,average='macro')\n",
    "\n",
    "\n",
    "    print('Accuracy Train = %0.2f'%acc_train)\n",
    "    print('Accuracy Test = %0.2f'%acc_test)\n",
    "    print('F1 Score Train = %0.2f'%f1_score_train)\n",
    "    print('F1 Score Test = %0.2f'%f1_score_test)"
   ]
  },
  {
   "cell_type": "code",
   "execution_count": null,
   "metadata": {},
   "outputs": [],
   "source": [
    "get_report(model_logistic,x_train,y_train,x_test,y_test)"
   ]
  },
  {
   "cell_type": "markdown",
   "metadata": {},
   "source": [
    "### Support Vector Machines"
   ]
  },
  {
   "cell_type": "code",
   "execution_count": null,
   "metadata": {},
   "outputs": [],
   "source": [
    "model_svc = SVC(probability=True)\n",
    "model_svc.fit(x_train,y_train)"
   ]
  },
  {
   "cell_type": "code",
   "execution_count": null,
   "metadata": {},
   "outputs": [],
   "source": [
    "get_report(model_svc,x_train,y_train,x_test,y_test)"
   ]
  },
  {
   "cell_type": "markdown",
   "metadata": {},
   "source": [
    "### Random Forest"
   ]
  },
  {
   "cell_type": "code",
   "execution_count": null,
   "metadata": {},
   "outputs": [],
   "source": [
    "model_rf = RandomForestClassifier(n_estimators=10,)\n",
    "model_rf.fit(x_train,y_train)"
   ]
  },
  {
   "cell_type": "code",
   "execution_count": null,
   "metadata": {},
   "outputs": [],
   "source": [
    "get_report(model_rf,x_train,y_train,x_test,y_test)"
   ]
  },
  {
   "cell_type": "markdown",
   "metadata": {},
   "source": [
    "## Voting Classifier"
   ]
  },
  {
   "cell_type": "code",
   "execution_count": null,
   "metadata": {},
   "outputs": [],
   "source": [
    "model_voting = VotingClassifier(estimators=[\n",
    "    ('logistic',LogisticRegression()),\n",
    "    ('svm',SVC(probability=True)),\n",
    "    ('rf',RandomForestClassifier())\n",
    "], voting='soft',weights=[2,3,1])"
   ]
  },
  {
   "cell_type": "code",
   "execution_count": null,
   "metadata": {},
   "outputs": [],
   "source": [
    "model_voting.fit(x_train,y_train)"
   ]
  },
  {
   "cell_type": "code",
   "execution_count": null,
   "metadata": {},
   "outputs": [],
   "source": [
    "get_report(model_voting,x_train,y_train,x_test,y_test)"
   ]
  },
  {
   "cell_type": "markdown",
   "metadata": {},
   "source": [
    "# 3. Parameter Tuning"
   ]
  },
  {
   "cell_type": "code",
   "execution_count": null,
   "metadata": {},
   "outputs": [],
   "source": [
    "from sklearn.model_selection import GridSearchCV"
   ]
  },
  {
   "cell_type": "code",
   "execution_count": null,
   "metadata": {},
   "outputs": [],
   "source": [
    "model_grid = GridSearchCV(model_voting,\n",
    "                         param_grid={\n",
    "                             'svm__C':[3,5,7,10],\n",
    "                             'svm__gamma':[0.1,0.3,0.5],\n",
    "                             'rf__n_estimators':[5,10,20],\n",
    "                             'rf__max_depth':[3,5,7],\n",
    "                             'voting':['soft','hard']\n",
    "                         },scoring='accuracy',cv=3,n_jobs=1,verbose=2)"
   ]
  },
  {
   "cell_type": "code",
   "execution_count": null,
   "metadata": {
    "scrolled": true
   },
   "outputs": [
    {
     "name": "stdout",
     "output_type": "stream",
     "text": [
      "[CV] END rf__max_depth=5, rf__n_estimators=10, svm__C=5, svm__gamma=0.3, voting=soft; total time=   0.3s\n",
      "[CV] END rf__max_depth=5, rf__n_estimators=10, svm__C=5, svm__gamma=0.3, voting=hard; total time=   0.4s\n",
      "[CV] END rf__max_depth=5, rf__n_estimators=10, svm__C=5, svm__gamma=0.3, voting=hard; total time=   0.3s\n",
      "[CV] END rf__max_depth=5, rf__n_estimators=10, svm__C=5, svm__gamma=0.3, voting=hard; total time=   0.3s\n",
      "[CV] END rf__max_depth=5, rf__n_estimators=10, svm__C=5, svm__gamma=0.5, voting=soft; total time=   0.3s\n",
      "[CV] END rf__max_depth=5, rf__n_estimators=10, svm__C=5, svm__gamma=0.5, voting=soft; total time=   0.3s\n",
      "[CV] END rf__max_depth=5, rf__n_estimators=10, svm__C=5, svm__gamma=0.5, voting=soft; total time=   0.3s\n",
      "[CV] END rf__max_depth=5, rf__n_estimators=10, svm__C=5, svm__gamma=0.5, voting=hard; total time=   0.3s\n",
      "[CV] END rf__max_depth=5, rf__n_estimators=10, svm__C=5, svm__gamma=0.5, voting=hard; total time=   0.3s\n",
      "[CV] END rf__max_depth=5, rf__n_estimators=10, svm__C=5, svm__gamma=0.5, voting=hard; total time=   0.3s\n",
      "[CV] END rf__max_depth=5, rf__n_estimators=10, svm__C=7, svm__gamma=0.1, voting=soft; total time=   0.4s\n",
      "[CV] END rf__max_depth=5, rf__n_estimators=10, svm__C=7, svm__gamma=0.1, voting=soft; total time=   0.4s\n",
      "[CV] END rf__max_depth=5, rf__n_estimators=10, svm__C=7, svm__gamma=0.1, voting=soft; total time=   0.4s\n",
      "[CV] END rf__max_depth=5, rf__n_estimators=10, svm__C=7, svm__gamma=0.1, voting=hard; total time=   0.4s\n",
      "[CV] END rf__max_depth=5, rf__n_estimators=10, svm__C=7, svm__gamma=0.1, voting=hard; total time=   0.4s\n",
      "[CV] END rf__max_depth=5, rf__n_estimators=10, svm__C=7, svm__gamma=0.1, voting=hard; total time=   0.4s\n",
      "[CV] END rf__max_depth=5, rf__n_estimators=10, svm__C=7, svm__gamma=0.3, voting=soft; total time=   0.4s\n",
      "[CV] END rf__max_depth=5, rf__n_estimators=10, svm__C=7, svm__gamma=0.3, voting=soft; total time=   0.4s\n",
      "[CV] END rf__max_depth=5, rf__n_estimators=10, svm__C=7, svm__gamma=0.3, voting=soft; total time=   0.3s\n",
      "[CV] END rf__max_depth=5, rf__n_estimators=10, svm__C=7, svm__gamma=0.3, voting=hard; total time=   0.4s\n",
      "[CV] END rf__max_depth=5, rf__n_estimators=10, svm__C=7, svm__gamma=0.3, voting=hard; total time=   0.3s\n",
      "[CV] END rf__max_depth=5, rf__n_estimators=10, svm__C=7, svm__gamma=0.3, voting=hard; total time=   0.3s\n",
      "[CV] END rf__max_depth=5, rf__n_estimators=10, svm__C=7, svm__gamma=0.5, voting=soft; total time=   0.4s\n",
      "[CV] END rf__max_depth=5, rf__n_estimators=10, svm__C=7, svm__gamma=0.5, voting=soft; total time=   0.3s\n",
      "[CV] END rf__max_depth=5, rf__n_estimators=10, svm__C=7, svm__gamma=0.5, voting=soft; total time=   0.3s\n",
      "[CV] END rf__max_depth=5, rf__n_estimators=10, svm__C=7, svm__gamma=0.5, voting=hard; total time=   0.3s\n",
      "[CV] END rf__max_depth=5, rf__n_estimators=10, svm__C=7, svm__gamma=0.5, voting=hard; total time=   0.4s\n",
      "[CV] END rf__max_depth=5, rf__n_estimators=10, svm__C=7, svm__gamma=0.5, voting=hard; total time=   0.4s\n",
      "[CV] END rf__max_depth=5, rf__n_estimators=10, svm__C=10, svm__gamma=0.1, voting=soft; total time=   0.3s\n",
      "[CV] END rf__max_depth=5, rf__n_estimators=10, svm__C=10, svm__gamma=0.1, voting=soft; total time=   0.3s\n",
      "[CV] END rf__max_depth=5, rf__n_estimators=10, svm__C=10, svm__gamma=0.1, voting=soft; total time=   0.3s\n",
      "[CV] END rf__max_depth=5, rf__n_estimators=10, svm__C=10, svm__gamma=0.1, voting=hard; total time=   0.3s\n",
      "[CV] END rf__max_depth=5, rf__n_estimators=10, svm__C=10, svm__gamma=0.1, voting=hard; total time=   0.3s\n",
      "[CV] END rf__max_depth=5, rf__n_estimators=10, svm__C=10, svm__gamma=0.1, voting=hard; total time=   0.3s\n",
      "[CV] END rf__max_depth=5, rf__n_estimators=10, svm__C=10, svm__gamma=0.3, voting=soft; total time=   0.3s\n",
      "[CV] END rf__max_depth=5, rf__n_estimators=10, svm__C=10, svm__gamma=0.3, voting=soft; total time=   0.3s\n",
      "[CV] END rf__max_depth=5, rf__n_estimators=10, svm__C=10, svm__gamma=0.3, voting=soft; total time=   0.4s\n",
      "[CV] END rf__max_depth=5, rf__n_estimators=10, svm__C=10, svm__gamma=0.3, voting=hard; total time=   0.3s\n",
      "[CV] END rf__max_depth=5, rf__n_estimators=10, svm__C=10, svm__gamma=0.3, voting=hard; total time=   0.3s\n",
      "[CV] END rf__max_depth=5, rf__n_estimators=10, svm__C=10, svm__gamma=0.3, voting=hard; total time=   0.4s\n",
      "[CV] END rf__max_depth=5, rf__n_estimators=10, svm__C=10, svm__gamma=0.5, voting=soft; total time=   0.4s\n",
      "[CV] END rf__max_depth=5, rf__n_estimators=10, svm__C=10, svm__gamma=0.5, voting=soft; total time=   0.3s\n",
      "[CV] END rf__max_depth=5, rf__n_estimators=10, svm__C=10, svm__gamma=0.5, voting=soft; total time=   0.3s\n",
      "[CV] END rf__max_depth=5, rf__n_estimators=10, svm__C=10, svm__gamma=0.5, voting=hard; total time=   0.3s\n",
      "[CV] END rf__max_depth=5, rf__n_estimators=10, svm__C=10, svm__gamma=0.5, voting=hard; total time=   0.3s\n",
      "[CV] END rf__max_depth=5, rf__n_estimators=10, svm__C=10, svm__gamma=0.5, voting=hard; total time=   0.3s\n",
      "[CV] END rf__max_depth=5, rf__n_estimators=20, svm__C=3, svm__gamma=0.1, voting=soft; total time=   0.4s\n",
      "[CV] END rf__max_depth=5, rf__n_estimators=20, svm__C=3, svm__gamma=0.1, voting=soft; total time=   0.4s\n",
      "[CV] END rf__max_depth=5, rf__n_estimators=20, svm__C=3, svm__gamma=0.1, voting=soft; total time=   0.4s\n",
      "[CV] END rf__max_depth=5, rf__n_estimators=20, svm__C=3, svm__gamma=0.1, voting=hard; total time=   0.5s\n",
      "[CV] END rf__max_depth=5, rf__n_estimators=20, svm__C=3, svm__gamma=0.1, voting=hard; total time=   0.4s\n",
      "[CV] END rf__max_depth=5, rf__n_estimators=20, svm__C=3, svm__gamma=0.1, voting=hard; total time=   0.5s\n",
      "[CV] END rf__max_depth=5, rf__n_estimators=20, svm__C=3, svm__gamma=0.3, voting=soft; total time=   0.4s\n",
      "[CV] END rf__max_depth=5, rf__n_estimators=20, svm__C=3, svm__gamma=0.3, voting=soft; total time=   0.4s\n",
      "[CV] END rf__max_depth=5, rf__n_estimators=20, svm__C=3, svm__gamma=0.3, voting=soft; total time=   0.4s\n",
      "[CV] END rf__max_depth=5, rf__n_estimators=20, svm__C=3, svm__gamma=0.3, voting=hard; total time=   0.4s\n",
      "[CV] END rf__max_depth=5, rf__n_estimators=20, svm__C=3, svm__gamma=0.3, voting=hard; total time=   0.4s\n",
      "[CV] END rf__max_depth=5, rf__n_estimators=20, svm__C=3, svm__gamma=0.3, voting=hard; total time=   0.4s\n",
      "[CV] END rf__max_depth=5, rf__n_estimators=20, svm__C=3, svm__gamma=0.5, voting=soft; total time=   0.4s\n",
      "[CV] END rf__max_depth=5, rf__n_estimators=20, svm__C=3, svm__gamma=0.5, voting=soft; total time=   0.4s\n",
      "[CV] END rf__max_depth=5, rf__n_estimators=20, svm__C=3, svm__gamma=0.5, voting=soft; total time=   0.4s\n",
      "[CV] END rf__max_depth=5, rf__n_estimators=20, svm__C=3, svm__gamma=0.5, voting=hard; total time=   0.4s\n",
      "[CV] END rf__max_depth=5, rf__n_estimators=20, svm__C=3, svm__gamma=0.5, voting=hard; total time=   0.4s\n",
      "[CV] END rf__max_depth=5, rf__n_estimators=20, svm__C=3, svm__gamma=0.5, voting=hard; total time=   0.4s\n",
      "[CV] END rf__max_depth=5, rf__n_estimators=20, svm__C=5, svm__gamma=0.1, voting=soft; total time=   0.4s\n",
      "[CV] END rf__max_depth=5, rf__n_estimators=20, svm__C=5, svm__gamma=0.1, voting=soft; total time=   0.4s\n",
      "[CV] END rf__max_depth=5, rf__n_estimators=20, svm__C=5, svm__gamma=0.1, voting=soft; total time=   0.4s\n",
      "[CV] END rf__max_depth=5, rf__n_estimators=20, svm__C=5, svm__gamma=0.1, voting=hard; total time=   0.4s\n",
      "[CV] END rf__max_depth=5, rf__n_estimators=20, svm__C=5, svm__gamma=0.1, voting=hard; total time=   0.4s\n",
      "[CV] END rf__max_depth=5, rf__n_estimators=20, svm__C=5, svm__gamma=0.1, voting=hard; total time=   0.4s\n",
      "[CV] END rf__max_depth=5, rf__n_estimators=20, svm__C=5, svm__gamma=0.3, voting=soft; total time=   0.4s\n",
      "[CV] END rf__max_depth=5, rf__n_estimators=20, svm__C=5, svm__gamma=0.3, voting=soft; total time=   0.4s\n",
      "[CV] END rf__max_depth=5, rf__n_estimators=20, svm__C=5, svm__gamma=0.3, voting=soft; total time=   0.3s\n",
      "[CV] END rf__max_depth=5, rf__n_estimators=20, svm__C=5, svm__gamma=0.3, voting=hard; total time=   0.3s\n",
      "[CV] END rf__max_depth=5, rf__n_estimators=20, svm__C=5, svm__gamma=0.3, voting=hard; total time=   0.4s\n",
      "[CV] END rf__max_depth=5, rf__n_estimators=20, svm__C=5, svm__gamma=0.3, voting=hard; total time=   0.3s\n",
      "[CV] END rf__max_depth=5, rf__n_estimators=20, svm__C=5, svm__gamma=0.5, voting=soft; total time=   0.4s\n",
      "[CV] END rf__max_depth=5, rf__n_estimators=20, svm__C=5, svm__gamma=0.5, voting=soft; total time=   0.4s\n"
     ]
    },
    {
     "name": "stdout",
     "output_type": "stream",
     "text": [
      "[CV] END rf__max_depth=5, rf__n_estimators=20, svm__C=5, svm__gamma=0.5, voting=soft; total time=   0.4s\n",
      "[CV] END rf__max_depth=5, rf__n_estimators=20, svm__C=5, svm__gamma=0.5, voting=hard; total time=   0.4s\n",
      "[CV] END rf__max_depth=5, rf__n_estimators=20, svm__C=5, svm__gamma=0.5, voting=hard; total time=   0.4s\n",
      "[CV] END rf__max_depth=5, rf__n_estimators=20, svm__C=5, svm__gamma=0.5, voting=hard; total time=   0.4s\n",
      "[CV] END rf__max_depth=5, rf__n_estimators=20, svm__C=7, svm__gamma=0.1, voting=soft; total time=   0.4s\n",
      "[CV] END rf__max_depth=5, rf__n_estimators=20, svm__C=7, svm__gamma=0.1, voting=soft; total time=   0.4s\n",
      "[CV] END rf__max_depth=5, rf__n_estimators=20, svm__C=7, svm__gamma=0.1, voting=soft; total time=   0.4s\n",
      "[CV] END rf__max_depth=5, rf__n_estimators=20, svm__C=7, svm__gamma=0.1, voting=hard; total time=   0.4s\n",
      "[CV] END rf__max_depth=5, rf__n_estimators=20, svm__C=7, svm__gamma=0.1, voting=hard; total time=   0.4s\n",
      "[CV] END rf__max_depth=5, rf__n_estimators=20, svm__C=7, svm__gamma=0.1, voting=hard; total time=   0.4s\n",
      "[CV] END rf__max_depth=5, rf__n_estimators=20, svm__C=7, svm__gamma=0.3, voting=soft; total time=   0.3s\n",
      "[CV] END rf__max_depth=5, rf__n_estimators=20, svm__C=7, svm__gamma=0.3, voting=soft; total time=   0.4s\n",
      "[CV] END rf__max_depth=5, rf__n_estimators=20, svm__C=7, svm__gamma=0.3, voting=soft; total time=   0.3s\n",
      "[CV] END rf__max_depth=5, rf__n_estimators=20, svm__C=7, svm__gamma=0.3, voting=hard; total time=   0.4s\n",
      "[CV] END rf__max_depth=5, rf__n_estimators=20, svm__C=7, svm__gamma=0.3, voting=hard; total time=   0.4s\n",
      "[CV] END rf__max_depth=5, rf__n_estimators=20, svm__C=7, svm__gamma=0.3, voting=hard; total time=   0.4s\n",
      "[CV] END rf__max_depth=5, rf__n_estimators=20, svm__C=7, svm__gamma=0.5, voting=soft; total time=   0.4s\n",
      "[CV] END rf__max_depth=5, rf__n_estimators=20, svm__C=7, svm__gamma=0.5, voting=soft; total time=   0.4s\n",
      "[CV] END rf__max_depth=5, rf__n_estimators=20, svm__C=7, svm__gamma=0.5, voting=soft; total time=   0.4s\n",
      "[CV] END rf__max_depth=5, rf__n_estimators=20, svm__C=7, svm__gamma=0.5, voting=hard; total time=   0.4s\n",
      "[CV] END rf__max_depth=5, rf__n_estimators=20, svm__C=7, svm__gamma=0.5, voting=hard; total time=   0.4s\n",
      "[CV] END rf__max_depth=5, rf__n_estimators=20, svm__C=7, svm__gamma=0.5, voting=hard; total time=   0.3s\n",
      "[CV] END rf__max_depth=5, rf__n_estimators=20, svm__C=10, svm__gamma=0.1, voting=soft; total time=   0.4s\n",
      "[CV] END rf__max_depth=5, rf__n_estimators=20, svm__C=10, svm__gamma=0.1, voting=soft; total time=   0.4s\n",
      "[CV] END rf__max_depth=5, rf__n_estimators=20, svm__C=10, svm__gamma=0.1, voting=soft; total time=   0.3s\n",
      "[CV] END rf__max_depth=5, rf__n_estimators=20, svm__C=10, svm__gamma=0.1, voting=hard; total time=   0.3s\n",
      "[CV] END rf__max_depth=5, rf__n_estimators=20, svm__C=10, svm__gamma=0.1, voting=hard; total time=   0.4s\n",
      "[CV] END rf__max_depth=5, rf__n_estimators=20, svm__C=10, svm__gamma=0.1, voting=hard; total time=   0.3s\n",
      "[CV] END rf__max_depth=5, rf__n_estimators=20, svm__C=10, svm__gamma=0.3, voting=soft; total time=   0.4s\n",
      "[CV] END rf__max_depth=5, rf__n_estimators=20, svm__C=10, svm__gamma=0.3, voting=soft; total time=   0.4s\n",
      "[CV] END rf__max_depth=5, rf__n_estimators=20, svm__C=10, svm__gamma=0.3, voting=soft; total time=   0.4s\n",
      "[CV] END rf__max_depth=5, rf__n_estimators=20, svm__C=10, svm__gamma=0.3, voting=hard; total time=   0.4s\n",
      "[CV] END rf__max_depth=5, rf__n_estimators=20, svm__C=10, svm__gamma=0.3, voting=hard; total time=   0.4s\n",
      "[CV] END rf__max_depth=5, rf__n_estimators=20, svm__C=10, svm__gamma=0.3, voting=hard; total time=   0.4s\n",
      "[CV] END rf__max_depth=5, rf__n_estimators=20, svm__C=10, svm__gamma=0.5, voting=soft; total time=   0.4s\n",
      "[CV] END rf__max_depth=5, rf__n_estimators=20, svm__C=10, svm__gamma=0.5, voting=soft; total time=   0.4s\n",
      "[CV] END rf__max_depth=5, rf__n_estimators=20, svm__C=10, svm__gamma=0.5, voting=soft; total time=   0.4s\n",
      "[CV] END rf__max_depth=5, rf__n_estimators=20, svm__C=10, svm__gamma=0.5, voting=hard; total time=   0.4s\n",
      "[CV] END rf__max_depth=5, rf__n_estimators=20, svm__C=10, svm__gamma=0.5, voting=hard; total time=   0.4s\n",
      "[CV] END rf__max_depth=5, rf__n_estimators=20, svm__C=10, svm__gamma=0.5, voting=hard; total time=   0.4s\n",
      "[CV] END rf__max_depth=7, rf__n_estimators=5, svm__C=3, svm__gamma=0.1, voting=soft; total time=   0.4s\n",
      "[CV] END rf__max_depth=7, rf__n_estimators=5, svm__C=3, svm__gamma=0.1, voting=soft; total time=   0.4s\n",
      "[CV] END rf__max_depth=7, rf__n_estimators=5, svm__C=3, svm__gamma=0.1, voting=soft; total time=   0.4s\n",
      "[CV] END rf__max_depth=7, rf__n_estimators=5, svm__C=3, svm__gamma=0.1, voting=hard; total time=   0.4s\n",
      "[CV] END rf__max_depth=7, rf__n_estimators=5, svm__C=3, svm__gamma=0.1, voting=hard; total time=   0.3s\n",
      "[CV] END rf__max_depth=7, rf__n_estimators=5, svm__C=3, svm__gamma=0.1, voting=hard; total time=   0.4s\n",
      "[CV] END rf__max_depth=7, rf__n_estimators=5, svm__C=3, svm__gamma=0.3, voting=soft; total time=   0.3s\n",
      "[CV] END rf__max_depth=7, rf__n_estimators=5, svm__C=3, svm__gamma=0.3, voting=soft; total time=   0.3s\n",
      "[CV] END rf__max_depth=7, rf__n_estimators=5, svm__C=3, svm__gamma=0.3, voting=soft; total time=   0.3s\n",
      "[CV] END rf__max_depth=7, rf__n_estimators=5, svm__C=3, svm__gamma=0.3, voting=hard; total time=   0.4s\n",
      "[CV] END rf__max_depth=7, rf__n_estimators=5, svm__C=3, svm__gamma=0.3, voting=hard; total time=   0.3s\n",
      "[CV] END rf__max_depth=7, rf__n_estimators=5, svm__C=3, svm__gamma=0.3, voting=hard; total time=   0.3s\n",
      "[CV] END rf__max_depth=7, rf__n_estimators=5, svm__C=3, svm__gamma=0.5, voting=soft; total time=   0.3s\n",
      "[CV] END rf__max_depth=7, rf__n_estimators=5, svm__C=3, svm__gamma=0.5, voting=soft; total time=   0.3s\n",
      "[CV] END rf__max_depth=7, rf__n_estimators=5, svm__C=3, svm__gamma=0.5, voting=soft; total time=   0.3s\n",
      "[CV] END rf__max_depth=7, rf__n_estimators=5, svm__C=3, svm__gamma=0.5, voting=hard; total time=   0.3s\n",
      "[CV] END rf__max_depth=7, rf__n_estimators=5, svm__C=3, svm__gamma=0.5, voting=hard; total time=   0.3s\n",
      "[CV] END rf__max_depth=7, rf__n_estimators=5, svm__C=3, svm__gamma=0.5, voting=hard; total time=   0.3s\n",
      "[CV] END rf__max_depth=7, rf__n_estimators=5, svm__C=5, svm__gamma=0.1, voting=soft; total time=   0.3s\n",
      "[CV] END rf__max_depth=7, rf__n_estimators=5, svm__C=5, svm__gamma=0.1, voting=soft; total time=   0.3s\n",
      "[CV] END rf__max_depth=7, rf__n_estimators=5, svm__C=5, svm__gamma=0.1, voting=soft; total time=   0.3s\n",
      "[CV] END rf__max_depth=7, rf__n_estimators=5, svm__C=5, svm__gamma=0.1, voting=hard; total time=   0.3s\n",
      "[CV] END rf__max_depth=7, rf__n_estimators=5, svm__C=5, svm__gamma=0.1, voting=hard; total time=   0.3s\n",
      "[CV] END rf__max_depth=7, rf__n_estimators=5, svm__C=5, svm__gamma=0.1, voting=hard; total time=   0.3s\n",
      "[CV] END rf__max_depth=7, rf__n_estimators=5, svm__C=5, svm__gamma=0.3, voting=soft; total time=   0.3s\n",
      "[CV] END rf__max_depth=7, rf__n_estimators=5, svm__C=5, svm__gamma=0.3, voting=soft; total time=   0.3s\n",
      "[CV] END rf__max_depth=7, rf__n_estimators=5, svm__C=5, svm__gamma=0.3, voting=soft; total time=   0.3s\n",
      "[CV] END rf__max_depth=7, rf__n_estimators=5, svm__C=5, svm__gamma=0.3, voting=hard; total time=   0.3s\n",
      "[CV] END rf__max_depth=7, rf__n_estimators=5, svm__C=5, svm__gamma=0.3, voting=hard; total time=   0.3s\n",
      "[CV] END rf__max_depth=7, rf__n_estimators=5, svm__C=5, svm__gamma=0.3, voting=hard; total time=   0.3s\n",
      "[CV] END rf__max_depth=7, rf__n_estimators=5, svm__C=5, svm__gamma=0.5, voting=soft; total time=   0.3s\n",
      "[CV] END rf__max_depth=7, rf__n_estimators=5, svm__C=5, svm__gamma=0.5, voting=soft; total time=   0.3s\n",
      "[CV] END rf__max_depth=7, rf__n_estimators=5, svm__C=5, svm__gamma=0.5, voting=soft; total time=   0.3s\n",
      "[CV] END rf__max_depth=7, rf__n_estimators=5, svm__C=5, svm__gamma=0.5, voting=hard; total time=   0.3s\n",
      "[CV] END rf__max_depth=7, rf__n_estimators=5, svm__C=5, svm__gamma=0.5, voting=hard; total time=   0.3s\n",
      "[CV] END rf__max_depth=7, rf__n_estimators=5, svm__C=5, svm__gamma=0.5, voting=hard; total time=   0.3s\n",
      "[CV] END rf__max_depth=7, rf__n_estimators=5, svm__C=7, svm__gamma=0.1, voting=soft; total time=   0.3s\n",
      "[CV] END rf__max_depth=7, rf__n_estimators=5, svm__C=7, svm__gamma=0.1, voting=soft; total time=   0.3s\n",
      "[CV] END rf__max_depth=7, rf__n_estimators=5, svm__C=7, svm__gamma=0.1, voting=soft; total time=   0.3s\n"
     ]
    },
    {
     "name": "stdout",
     "output_type": "stream",
     "text": [
      "[CV] END rf__max_depth=7, rf__n_estimators=5, svm__C=7, svm__gamma=0.1, voting=hard; total time=   0.3s\n",
      "[CV] END rf__max_depth=7, rf__n_estimators=5, svm__C=7, svm__gamma=0.1, voting=hard; total time=   0.3s\n",
      "[CV] END rf__max_depth=7, rf__n_estimators=5, svm__C=7, svm__gamma=0.1, voting=hard; total time=   0.3s\n",
      "[CV] END rf__max_depth=7, rf__n_estimators=5, svm__C=7, svm__gamma=0.3, voting=soft; total time=   0.3s\n",
      "[CV] END rf__max_depth=7, rf__n_estimators=5, svm__C=7, svm__gamma=0.3, voting=soft; total time=   0.3s\n",
      "[CV] END rf__max_depth=7, rf__n_estimators=5, svm__C=7, svm__gamma=0.3, voting=soft; total time=   0.3s\n",
      "[CV] END rf__max_depth=7, rf__n_estimators=5, svm__C=7, svm__gamma=0.3, voting=hard; total time=   0.3s\n",
      "[CV] END rf__max_depth=7, rf__n_estimators=5, svm__C=7, svm__gamma=0.3, voting=hard; total time=   0.3s\n",
      "[CV] END rf__max_depth=7, rf__n_estimators=5, svm__C=7, svm__gamma=0.3, voting=hard; total time=   0.3s\n",
      "[CV] END rf__max_depth=7, rf__n_estimators=5, svm__C=7, svm__gamma=0.5, voting=soft; total time=   0.3s\n",
      "[CV] END rf__max_depth=7, rf__n_estimators=5, svm__C=7, svm__gamma=0.5, voting=soft; total time=   0.3s\n",
      "[CV] END rf__max_depth=7, rf__n_estimators=5, svm__C=7, svm__gamma=0.5, voting=soft; total time=   0.3s\n",
      "[CV] END rf__max_depth=7, rf__n_estimators=5, svm__C=7, svm__gamma=0.5, voting=hard; total time=   0.3s\n",
      "[CV] END rf__max_depth=7, rf__n_estimators=5, svm__C=7, svm__gamma=0.5, voting=hard; total time=   0.3s\n",
      "[CV] END rf__max_depth=7, rf__n_estimators=5, svm__C=7, svm__gamma=0.5, voting=hard; total time=   0.3s\n",
      "[CV] END rf__max_depth=7, rf__n_estimators=5, svm__C=10, svm__gamma=0.1, voting=soft; total time=   0.3s\n",
      "[CV] END rf__max_depth=7, rf__n_estimators=5, svm__C=10, svm__gamma=0.1, voting=soft; total time=   0.3s\n",
      "[CV] END rf__max_depth=7, rf__n_estimators=5, svm__C=10, svm__gamma=0.1, voting=soft; total time=   0.3s\n",
      "[CV] END rf__max_depth=7, rf__n_estimators=5, svm__C=10, svm__gamma=0.1, voting=hard; total time=   0.3s\n",
      "[CV] END rf__max_depth=7, rf__n_estimators=5, svm__C=10, svm__gamma=0.1, voting=hard; total time=   0.3s\n",
      "[CV] END rf__max_depth=7, rf__n_estimators=5, svm__C=10, svm__gamma=0.1, voting=hard; total time=   0.3s\n",
      "[CV] END rf__max_depth=7, rf__n_estimators=5, svm__C=10, svm__gamma=0.3, voting=soft; total time=   0.3s\n",
      "[CV] END rf__max_depth=7, rf__n_estimators=5, svm__C=10, svm__gamma=0.3, voting=soft; total time=   0.3s\n",
      "[CV] END rf__max_depth=7, rf__n_estimators=5, svm__C=10, svm__gamma=0.3, voting=soft; total time=   0.3s\n",
      "[CV] END rf__max_depth=7, rf__n_estimators=5, svm__C=10, svm__gamma=0.3, voting=hard; total time=   0.3s\n",
      "[CV] END rf__max_depth=7, rf__n_estimators=5, svm__C=10, svm__gamma=0.3, voting=hard; total time=   0.3s\n",
      "[CV] END rf__max_depth=7, rf__n_estimators=5, svm__C=10, svm__gamma=0.3, voting=hard; total time=   0.3s\n",
      "[CV] END rf__max_depth=7, rf__n_estimators=5, svm__C=10, svm__gamma=0.5, voting=soft; total time=   0.3s\n",
      "[CV] END rf__max_depth=7, rf__n_estimators=5, svm__C=10, svm__gamma=0.5, voting=soft; total time=   0.3s\n",
      "[CV] END rf__max_depth=7, rf__n_estimators=5, svm__C=10, svm__gamma=0.5, voting=soft; total time=   0.3s\n",
      "[CV] END rf__max_depth=7, rf__n_estimators=5, svm__C=10, svm__gamma=0.5, voting=hard; total time=   0.3s\n",
      "[CV] END rf__max_depth=7, rf__n_estimators=5, svm__C=10, svm__gamma=0.5, voting=hard; total time=   0.3s\n",
      "[CV] END rf__max_depth=7, rf__n_estimators=5, svm__C=10, svm__gamma=0.5, voting=hard; total time=   0.3s\n",
      "[CV] END rf__max_depth=7, rf__n_estimators=10, svm__C=3, svm__gamma=0.1, voting=soft; total time=   0.4s\n",
      "[CV] END rf__max_depth=7, rf__n_estimators=10, svm__C=3, svm__gamma=0.1, voting=soft; total time=   0.4s\n",
      "[CV] END rf__max_depth=7, rf__n_estimators=10, svm__C=3, svm__gamma=0.1, voting=soft; total time=   0.4s\n",
      "[CV] END rf__max_depth=7, rf__n_estimators=10, svm__C=3, svm__gamma=0.1, voting=hard; total time=   0.4s\n",
      "[CV] END rf__max_depth=7, rf__n_estimators=10, svm__C=3, svm__gamma=0.1, voting=hard; total time=   0.4s\n",
      "[CV] END rf__max_depth=7, rf__n_estimators=10, svm__C=3, svm__gamma=0.1, voting=hard; total time=   0.4s\n",
      "[CV] END rf__max_depth=7, rf__n_estimators=10, svm__C=3, svm__gamma=0.3, voting=soft; total time=   0.3s\n",
      "[CV] END rf__max_depth=7, rf__n_estimators=10, svm__C=3, svm__gamma=0.3, voting=soft; total time=   0.4s\n",
      "[CV] END rf__max_depth=7, rf__n_estimators=10, svm__C=3, svm__gamma=0.3, voting=soft; total time=   0.3s\n",
      "[CV] END rf__max_depth=7, rf__n_estimators=10, svm__C=3, svm__gamma=0.3, voting=hard; total time=   0.4s\n",
      "[CV] END rf__max_depth=7, rf__n_estimators=10, svm__C=3, svm__gamma=0.3, voting=hard; total time=   0.3s\n",
      "[CV] END rf__max_depth=7, rf__n_estimators=10, svm__C=3, svm__gamma=0.3, voting=hard; total time=   0.3s\n",
      "[CV] END rf__max_depth=7, rf__n_estimators=10, svm__C=3, svm__gamma=0.5, voting=soft; total time=   0.3s\n",
      "[CV] END rf__max_depth=7, rf__n_estimators=10, svm__C=3, svm__gamma=0.5, voting=soft; total time=   0.3s\n",
      "[CV] END rf__max_depth=7, rf__n_estimators=10, svm__C=3, svm__gamma=0.5, voting=soft; total time=   0.4s\n",
      "[CV] END rf__max_depth=7, rf__n_estimators=10, svm__C=3, svm__gamma=0.5, voting=hard; total time=   0.3s\n",
      "[CV] END rf__max_depth=7, rf__n_estimators=10, svm__C=3, svm__gamma=0.5, voting=hard; total time=   0.3s\n",
      "[CV] END rf__max_depth=7, rf__n_estimators=10, svm__C=3, svm__gamma=0.5, voting=hard; total time=   0.3s\n",
      "[CV] END rf__max_depth=7, rf__n_estimators=10, svm__C=5, svm__gamma=0.1, voting=soft; total time=   0.4s\n",
      "[CV] END rf__max_depth=7, rf__n_estimators=10, svm__C=5, svm__gamma=0.1, voting=soft; total time=   0.3s\n",
      "[CV] END rf__max_depth=7, rf__n_estimators=10, svm__C=5, svm__gamma=0.1, voting=soft; total time=   0.3s\n",
      "[CV] END rf__max_depth=7, rf__n_estimators=10, svm__C=5, svm__gamma=0.1, voting=hard; total time=   0.4s\n",
      "[CV] END rf__max_depth=7, rf__n_estimators=10, svm__C=5, svm__gamma=0.1, voting=hard; total time=   0.3s\n",
      "[CV] END rf__max_depth=7, rf__n_estimators=10, svm__C=5, svm__gamma=0.1, voting=hard; total time=   0.4s\n",
      "[CV] END rf__max_depth=7, rf__n_estimators=10, svm__C=5, svm__gamma=0.3, voting=soft; total time=   0.3s\n",
      "[CV] END rf__max_depth=7, rf__n_estimators=10, svm__C=5, svm__gamma=0.3, voting=soft; total time=   0.3s\n",
      "[CV] END rf__max_depth=7, rf__n_estimators=10, svm__C=5, svm__gamma=0.3, voting=soft; total time=   0.3s\n",
      "[CV] END rf__max_depth=7, rf__n_estimators=10, svm__C=5, svm__gamma=0.3, voting=hard; total time=   0.3s\n",
      "[CV] END rf__max_depth=7, rf__n_estimators=10, svm__C=5, svm__gamma=0.3, voting=hard; total time=   0.3s\n",
      "[CV] END rf__max_depth=7, rf__n_estimators=10, svm__C=5, svm__gamma=0.3, voting=hard; total time=   0.3s\n",
      "[CV] END rf__max_depth=7, rf__n_estimators=10, svm__C=5, svm__gamma=0.5, voting=soft; total time=   0.4s\n",
      "[CV] END rf__max_depth=7, rf__n_estimators=10, svm__C=5, svm__gamma=0.5, voting=soft; total time=   0.3s\n",
      "[CV] END rf__max_depth=7, rf__n_estimators=10, svm__C=5, svm__gamma=0.5, voting=soft; total time=   0.3s\n",
      "[CV] END rf__max_depth=7, rf__n_estimators=10, svm__C=5, svm__gamma=0.5, voting=hard; total time=   0.4s\n",
      "[CV] END rf__max_depth=7, rf__n_estimators=10, svm__C=5, svm__gamma=0.5, voting=hard; total time=   0.3s\n",
      "[CV] END rf__max_depth=7, rf__n_estimators=10, svm__C=5, svm__gamma=0.5, voting=hard; total time=   0.3s\n",
      "[CV] END rf__max_depth=7, rf__n_estimators=10, svm__C=7, svm__gamma=0.1, voting=soft; total time=   0.3s\n",
      "[CV] END rf__max_depth=7, rf__n_estimators=10, svm__C=7, svm__gamma=0.1, voting=soft; total time=   0.3s\n",
      "[CV] END rf__max_depth=7, rf__n_estimators=10, svm__C=7, svm__gamma=0.1, voting=soft; total time=   0.3s\n",
      "[CV] END rf__max_depth=7, rf__n_estimators=10, svm__C=7, svm__gamma=0.1, voting=hard; total time=   0.4s\n",
      "[CV] END rf__max_depth=7, rf__n_estimators=10, svm__C=7, svm__gamma=0.1, voting=hard; total time=   0.3s\n",
      "[CV] END rf__max_depth=7, rf__n_estimators=10, svm__C=7, svm__gamma=0.1, voting=hard; total time=   0.3s\n",
      "[CV] END rf__max_depth=7, rf__n_estimators=10, svm__C=7, svm__gamma=0.3, voting=soft; total time=   0.3s\n",
      "[CV] END rf__max_depth=7, rf__n_estimators=10, svm__C=7, svm__gamma=0.3, voting=soft; total time=   0.3s\n",
      "[CV] END rf__max_depth=7, rf__n_estimators=10, svm__C=7, svm__gamma=0.3, voting=soft; total time=   0.3s\n",
      "[CV] END rf__max_depth=7, rf__n_estimators=10, svm__C=7, svm__gamma=0.3, voting=hard; total time=   0.4s\n"
     ]
    },
    {
     "name": "stdout",
     "output_type": "stream",
     "text": [
      "[CV] END rf__max_depth=7, rf__n_estimators=10, svm__C=7, svm__gamma=0.3, voting=hard; total time=   0.3s\n",
      "[CV] END rf__max_depth=7, rf__n_estimators=10, svm__C=7, svm__gamma=0.3, voting=hard; total time=   0.3s\n",
      "[CV] END rf__max_depth=7, rf__n_estimators=10, svm__C=7, svm__gamma=0.5, voting=soft; total time=   0.3s\n",
      "[CV] END rf__max_depth=7, rf__n_estimators=10, svm__C=7, svm__gamma=0.5, voting=soft; total time=   0.4s\n",
      "[CV] END rf__max_depth=7, rf__n_estimators=10, svm__C=7, svm__gamma=0.5, voting=soft; total time=   0.3s\n",
      "[CV] END rf__max_depth=7, rf__n_estimators=10, svm__C=7, svm__gamma=0.5, voting=hard; total time=   0.3s\n",
      "[CV] END rf__max_depth=7, rf__n_estimators=10, svm__C=7, svm__gamma=0.5, voting=hard; total time=   0.3s\n",
      "[CV] END rf__max_depth=7, rf__n_estimators=10, svm__C=7, svm__gamma=0.5, voting=hard; total time=   0.3s\n",
      "[CV] END rf__max_depth=7, rf__n_estimators=10, svm__C=10, svm__gamma=0.1, voting=soft; total time=   0.3s\n",
      "[CV] END rf__max_depth=7, rf__n_estimators=10, svm__C=10, svm__gamma=0.1, voting=soft; total time=   0.3s\n",
      "[CV] END rf__max_depth=7, rf__n_estimators=10, svm__C=10, svm__gamma=0.1, voting=soft; total time=   0.3s\n",
      "[CV] END rf__max_depth=7, rf__n_estimators=10, svm__C=10, svm__gamma=0.1, voting=hard; total time=   0.4s\n",
      "[CV] END rf__max_depth=7, rf__n_estimators=10, svm__C=10, svm__gamma=0.1, voting=hard; total time=   0.3s\n",
      "[CV] END rf__max_depth=7, rf__n_estimators=10, svm__C=10, svm__gamma=0.1, voting=hard; total time=   0.3s\n",
      "[CV] END rf__max_depth=7, rf__n_estimators=10, svm__C=10, svm__gamma=0.3, voting=soft; total time=   0.3s\n",
      "[CV] END rf__max_depth=7, rf__n_estimators=10, svm__C=10, svm__gamma=0.3, voting=soft; total time=   0.3s\n",
      "[CV] END rf__max_depth=7, rf__n_estimators=10, svm__C=10, svm__gamma=0.3, voting=soft; total time=   0.3s\n",
      "[CV] END rf__max_depth=7, rf__n_estimators=10, svm__C=10, svm__gamma=0.3, voting=hard; total time=   0.3s\n",
      "[CV] END rf__max_depth=7, rf__n_estimators=10, svm__C=10, svm__gamma=0.3, voting=hard; total time=   0.3s\n",
      "[CV] END rf__max_depth=7, rf__n_estimators=10, svm__C=10, svm__gamma=0.3, voting=hard; total time=   0.3s\n",
      "[CV] END rf__max_depth=7, rf__n_estimators=10, svm__C=10, svm__gamma=0.5, voting=soft; total time=   0.3s\n",
      "[CV] END rf__max_depth=7, rf__n_estimators=10, svm__C=10, svm__gamma=0.5, voting=soft; total time=   0.4s\n",
      "[CV] END rf__max_depth=7, rf__n_estimators=10, svm__C=10, svm__gamma=0.5, voting=soft; total time=   0.3s\n",
      "[CV] END rf__max_depth=7, rf__n_estimators=10, svm__C=10, svm__gamma=0.5, voting=hard; total time=   0.3s\n",
      "[CV] END rf__max_depth=7, rf__n_estimators=10, svm__C=10, svm__gamma=0.5, voting=hard; total time=   0.3s\n",
      "[CV] END rf__max_depth=7, rf__n_estimators=10, svm__C=10, svm__gamma=0.5, voting=hard; total time=   0.3s\n",
      "[CV] END rf__max_depth=7, rf__n_estimators=20, svm__C=3, svm__gamma=0.1, voting=soft; total time=   0.4s\n",
      "[CV] END rf__max_depth=7, rf__n_estimators=20, svm__C=3, svm__gamma=0.1, voting=soft; total time=   0.5s\n",
      "[CV] END rf__max_depth=7, rf__n_estimators=20, svm__C=3, svm__gamma=0.1, voting=soft; total time=   0.4s\n",
      "[CV] END rf__max_depth=7, rf__n_estimators=20, svm__C=3, svm__gamma=0.1, voting=hard; total time=   0.5s\n",
      "[CV] END rf__max_depth=7, rf__n_estimators=20, svm__C=3, svm__gamma=0.1, voting=hard; total time=   0.4s\n",
      "[CV] END rf__max_depth=7, rf__n_estimators=20, svm__C=3, svm__gamma=0.1, voting=hard; total time=   0.5s\n",
      "[CV] END rf__max_depth=7, rf__n_estimators=20, svm__C=3, svm__gamma=0.3, voting=soft; total time=   0.4s\n",
      "[CV] END rf__max_depth=7, rf__n_estimators=20, svm__C=3, svm__gamma=0.3, voting=soft; total time=   0.4s\n",
      "[CV] END rf__max_depth=7, rf__n_estimators=20, svm__C=3, svm__gamma=0.3, voting=soft; total time=   0.4s\n",
      "[CV] END rf__max_depth=7, rf__n_estimators=20, svm__C=3, svm__gamma=0.3, voting=hard; total time=   0.4s\n",
      "[CV] END rf__max_depth=7, rf__n_estimators=20, svm__C=3, svm__gamma=0.3, voting=hard; total time=   0.4s\n",
      "[CV] END rf__max_depth=7, rf__n_estimators=20, svm__C=3, svm__gamma=0.3, voting=hard; total time=   0.4s\n",
      "[CV] END rf__max_depth=7, rf__n_estimators=20, svm__C=3, svm__gamma=0.5, voting=soft; total time=   0.4s\n",
      "[CV] END rf__max_depth=7, rf__n_estimators=20, svm__C=3, svm__gamma=0.5, voting=soft; total time=   0.4s\n",
      "[CV] END rf__max_depth=7, rf__n_estimators=20, svm__C=3, svm__gamma=0.5, voting=soft; total time=   0.4s\n",
      "[CV] END rf__max_depth=7, rf__n_estimators=20, svm__C=3, svm__gamma=0.5, voting=hard; total time=   0.4s\n",
      "[CV] END rf__max_depth=7, rf__n_estimators=20, svm__C=3, svm__gamma=0.5, voting=hard; total time=   0.4s\n",
      "[CV] END rf__max_depth=7, rf__n_estimators=20, svm__C=3, svm__gamma=0.5, voting=hard; total time=   0.4s\n",
      "[CV] END rf__max_depth=7, rf__n_estimators=20, svm__C=5, svm__gamma=0.1, voting=soft; total time=   0.4s\n",
      "[CV] END rf__max_depth=7, rf__n_estimators=20, svm__C=5, svm__gamma=0.1, voting=soft; total time=   0.4s\n",
      "[CV] END rf__max_depth=7, rf__n_estimators=20, svm__C=5, svm__gamma=0.1, voting=soft; total time=   0.4s\n",
      "[CV] END rf__max_depth=7, rf__n_estimators=20, svm__C=5, svm__gamma=0.1, voting=hard; total time=   0.4s\n",
      "[CV] END rf__max_depth=7, rf__n_estimators=20, svm__C=5, svm__gamma=0.1, voting=hard; total time=   0.4s\n",
      "[CV] END rf__max_depth=7, rf__n_estimators=20, svm__C=5, svm__gamma=0.1, voting=hard; total time=   0.4s\n",
      "[CV] END rf__max_depth=7, rf__n_estimators=20, svm__C=5, svm__gamma=0.3, voting=soft; total time=   0.4s\n",
      "[CV] END rf__max_depth=7, rf__n_estimators=20, svm__C=5, svm__gamma=0.3, voting=soft; total time=   0.4s\n",
      "[CV] END rf__max_depth=7, rf__n_estimators=20, svm__C=5, svm__gamma=0.3, voting=soft; total time=   0.4s\n",
      "[CV] END rf__max_depth=7, rf__n_estimators=20, svm__C=5, svm__gamma=0.3, voting=hard; total time=   0.4s\n",
      "[CV] END rf__max_depth=7, rf__n_estimators=20, svm__C=5, svm__gamma=0.3, voting=hard; total time=   0.4s\n",
      "[CV] END rf__max_depth=7, rf__n_estimators=20, svm__C=5, svm__gamma=0.3, voting=hard; total time=   0.4s\n",
      "[CV] END rf__max_depth=7, rf__n_estimators=20, svm__C=5, svm__gamma=0.5, voting=soft; total time=   0.4s\n",
      "[CV] END rf__max_depth=7, rf__n_estimators=20, svm__C=5, svm__gamma=0.5, voting=soft; total time=   0.4s\n",
      "[CV] END rf__max_depth=7, rf__n_estimators=20, svm__C=5, svm__gamma=0.5, voting=soft; total time=   0.4s\n",
      "[CV] END rf__max_depth=7, rf__n_estimators=20, svm__C=5, svm__gamma=0.5, voting=hard; total time=   0.4s\n",
      "[CV] END rf__max_depth=7, rf__n_estimators=20, svm__C=5, svm__gamma=0.5, voting=hard; total time=   0.4s\n",
      "[CV] END rf__max_depth=7, rf__n_estimators=20, svm__C=5, svm__gamma=0.5, voting=hard; total time=   0.4s\n",
      "[CV] END rf__max_depth=7, rf__n_estimators=20, svm__C=7, svm__gamma=0.1, voting=soft; total time=   0.4s\n",
      "[CV] END rf__max_depth=7, rf__n_estimators=20, svm__C=7, svm__gamma=0.1, voting=soft; total time=   0.4s\n",
      "[CV] END rf__max_depth=7, rf__n_estimators=20, svm__C=7, svm__gamma=0.1, voting=soft; total time=   0.4s\n",
      "[CV] END rf__max_depth=7, rf__n_estimators=20, svm__C=7, svm__gamma=0.1, voting=hard; total time=   0.4s\n",
      "[CV] END rf__max_depth=7, rf__n_estimators=20, svm__C=7, svm__gamma=0.1, voting=hard; total time=   0.4s\n",
      "[CV] END rf__max_depth=7, rf__n_estimators=20, svm__C=7, svm__gamma=0.1, voting=hard; total time=   0.4s\n",
      "[CV] END rf__max_depth=7, rf__n_estimators=20, svm__C=7, svm__gamma=0.3, voting=soft; total time=   0.4s\n",
      "[CV] END rf__max_depth=7, rf__n_estimators=20, svm__C=7, svm__gamma=0.3, voting=soft; total time=   0.4s\n",
      "[CV] END rf__max_depth=7, rf__n_estimators=20, svm__C=7, svm__gamma=0.3, voting=soft; total time=   0.4s\n",
      "[CV] END rf__max_depth=7, rf__n_estimators=20, svm__C=7, svm__gamma=0.3, voting=hard; total time=   0.4s\n",
      "[CV] END rf__max_depth=7, rf__n_estimators=20, svm__C=7, svm__gamma=0.3, voting=hard; total time=   0.4s\n",
      "[CV] END rf__max_depth=7, rf__n_estimators=20, svm__C=7, svm__gamma=0.3, voting=hard; total time=   0.4s\n",
      "[CV] END rf__max_depth=7, rf__n_estimators=20, svm__C=7, svm__gamma=0.5, voting=soft; total time=   0.4s\n",
      "[CV] END rf__max_depth=7, rf__n_estimators=20, svm__C=7, svm__gamma=0.5, voting=soft; total time=   0.4s\n",
      "[CV] END rf__max_depth=7, rf__n_estimators=20, svm__C=7, svm__gamma=0.5, voting=soft; total time=   0.4s\n",
      "[CV] END rf__max_depth=7, rf__n_estimators=20, svm__C=7, svm__gamma=0.5, voting=hard; total time=   0.4s\n"
     ]
    },
    {
     "name": "stdout",
     "output_type": "stream",
     "text": [
      "[CV] END rf__max_depth=7, rf__n_estimators=20, svm__C=7, svm__gamma=0.5, voting=hard; total time=   0.4s\n",
      "[CV] END rf__max_depth=7, rf__n_estimators=20, svm__C=7, svm__gamma=0.5, voting=hard; total time=   0.4s\n",
      "[CV] END rf__max_depth=7, rf__n_estimators=20, svm__C=10, svm__gamma=0.1, voting=soft; total time=   0.4s\n",
      "[CV] END rf__max_depth=7, rf__n_estimators=20, svm__C=10, svm__gamma=0.1, voting=soft; total time=   0.4s\n",
      "[CV] END rf__max_depth=7, rf__n_estimators=20, svm__C=10, svm__gamma=0.1, voting=soft; total time=   0.4s\n",
      "[CV] END rf__max_depth=7, rf__n_estimators=20, svm__C=10, svm__gamma=0.1, voting=hard; total time=   0.4s\n",
      "[CV] END rf__max_depth=7, rf__n_estimators=20, svm__C=10, svm__gamma=0.1, voting=hard; total time=   0.4s\n",
      "[CV] END rf__max_depth=7, rf__n_estimators=20, svm__C=10, svm__gamma=0.1, voting=hard; total time=   0.4s\n",
      "[CV] END rf__max_depth=7, rf__n_estimators=20, svm__C=10, svm__gamma=0.3, voting=soft; total time=   0.4s\n",
      "[CV] END rf__max_depth=7, rf__n_estimators=20, svm__C=10, svm__gamma=0.3, voting=soft; total time=   0.4s\n",
      "[CV] END rf__max_depth=7, rf__n_estimators=20, svm__C=10, svm__gamma=0.3, voting=soft; total time=   0.4s\n",
      "[CV] END rf__max_depth=7, rf__n_estimators=20, svm__C=10, svm__gamma=0.3, voting=hard; total time=   0.4s\n",
      "[CV] END rf__max_depth=7, rf__n_estimators=20, svm__C=10, svm__gamma=0.3, voting=hard; total time=   0.4s\n",
      "[CV] END rf__max_depth=7, rf__n_estimators=20, svm__C=10, svm__gamma=0.3, voting=hard; total time=   0.4s\n",
      "[CV] END rf__max_depth=7, rf__n_estimators=20, svm__C=10, svm__gamma=0.5, voting=soft; total time=   0.4s\n",
      "[CV] END rf__max_depth=7, rf__n_estimators=20, svm__C=10, svm__gamma=0.5, voting=soft; total time=   0.4s\n",
      "[CV] END rf__max_depth=7, rf__n_estimators=20, svm__C=10, svm__gamma=0.5, voting=soft; total time=   0.4s\n",
      "[CV] END rf__max_depth=7, rf__n_estimators=20, svm__C=10, svm__gamma=0.5, voting=hard; total time=   0.4s\n",
      "[CV] END rf__max_depth=7, rf__n_estimators=20, svm__C=10, svm__gamma=0.5, voting=hard; total time=   0.4s\n",
      "[CV] END rf__max_depth=7, rf__n_estimators=20, svm__C=10, svm__gamma=0.5, voting=hard; total time=   0.4s\n"
     ]
    },
    {
     "data": {
      "text/plain": [
       "GridSearchCV(cv=3,\n",
       "             estimator=VotingClassifier(estimators=[('logistic',\n",
       "                                                     LogisticRegression()),\n",
       "                                                    ('svm',\n",
       "                                                     SVC(probability=True)),\n",
       "                                                    ('rf',\n",
       "                                                     RandomForestClassifier())],\n",
       "                                        voting='soft', weights=[2, 3, 1]),\n",
       "             n_jobs=1,\n",
       "             param_grid={'rf__max_depth': [3, 5, 7],\n",
       "                         'rf__n_estimators': [5, 10, 20],\n",
       "                         'svm__C': [3, 5, 7, 10], 'svm__gamma': [0.1, 0.3, 0.5],\n",
       "                         'voting': ['soft', 'hard']},\n",
       "             scoring='accuracy', verbose=2)"
      ]
     },
     "execution_count": 36,
     "metadata": {},
     "output_type": "execute_result"
    }
   ],
   "source": [
    "model_grid.fit(x_train,y_train)"
   ]
  },
  {
   "cell_type": "code",
   "execution_count": null,
   "metadata": {},
   "outputs": [],
   "source": [
    "model_best_estimator = model_grid.best_estimator_"
   ]
  },
  {
   "cell_type": "code",
   "execution_count": null,
   "metadata": {},
   "outputs": [],
   "source": [
    "model_grid.best_score_"
   ]
  },
  {
   "cell_type": "code",
   "execution_count": null,
   "metadata": {},
   "outputs": [],
   "source": []
  },
  {
   "cell_type": "markdown",
   "metadata": {},
   "source": [
    "# 4. Save Model"
   ]
  },
  {
   "cell_type": "code",
   "execution_count": null,
   "metadata": {},
   "outputs": [],
   "source": [
    "pickle.dump(model_best_estimator,open('./models/machinelearning_face_person_identity.pkl',mode='wb'))"
   ]
  },
  {
   "cell_type": "code",
   "execution_count": null,
   "metadata": {},
   "outputs": [],
   "source": []
  }
 ],
 "metadata": {
  "kernelspec": {
   "display_name": "Python 3 (ipykernel)",
   "language": "python",
   "name": "python3"
  },
  "language_info": {
   "codemirror_mode": {
    "name": "ipython",
    "version": 3
   },
   "file_extension": ".py",
   "mimetype": "text/x-python",
   "name": "python",
   "nbconvert_exporter": "python",
   "pygments_lexer": "ipython3",
   "version": "3.10.9"
  }
 },
 "nbformat": 4,
 "nbformat_minor": 4
}
