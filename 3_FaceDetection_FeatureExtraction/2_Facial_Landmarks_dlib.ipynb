{
 "cells": [
  {
   "cell_type": "code",
   "execution_count": 1,
   "metadata": {},
   "outputs": [],
   "source": [
    "import numpy as np\n",
    "import cv2\n",
    "import dlib\n",
    "from imutils import face_utils"
   ]
  },
  {
   "cell_type": "code",
   "execution_count": 2,
   "metadata": {},
   "outputs": [
    {
     "name": "stderr",
     "output_type": "stream",
     "text": [
      "2023-11-27 23:20:38.990 Python[36543:1282665] WARNING: Secure coding is not enabled for restorable state! Enable secure coding by implementing NSApplicationDelegate.applicationSupportsSecureRestorableState: and returning YES.\n"
     ]
    }
   ],
   "source": [
    "img = cv2.imread('./images/girl.png')\n",
    "\n",
    "cv2.imshow('girl',img)\n",
    "cv2.waitKey(0)\n",
    "cv2.destroyAllWindows()"
   ]
  },
  {
   "cell_type": "code",
   "execution_count": 3,
   "metadata": {},
   "outputs": [],
   "source": [
    "shape_predictor = dlib.shape_predictor('./models/shape_predictor_68_face_landmarks.dat')\n",
    "shape_descriptor = dlib.face_recognition_model_v1('./models/dlib_face_recognition_resnet_model_v1.dat')"
   ]
  },
  {
   "cell_type": "code",
   "execution_count": null,
   "metadata": {},
   "outputs": [],
   "source": [
    "img = cv2.imread('./images/girl.png')\n",
    "\n",
    "face_detector = dlib.get_frontal_face_detector()\n",
    "\n",
    "faces = face_detector(img)\n",
    "for box in faces:\n",
    "    pt1 = box.left(), box.top()\n",
    "    pt2 = box.right(),box.bottom()\n",
    "    #print(pt1,pt2)\n",
    "    \n",
    "    face_shape = shape_predictor(img,box)\n",
    "    face_shape_array = face_utils.shape_to_np(face_shape)\n",
    "    # shape features\n",
    "    face_descriptors = shape_descriptor.compute_face_descriptor(img,face_shape)\n",
    "    cv2.rectangle(img,pt1,pt2,(0,255,0))\n",
    "    for points in face_shape_array:\n",
    "        #print(points)\n",
    "        cv2.circle(img,tuple(points),3,(0,255,0),-1)\n",
    "        pass\n",
    "    \n",
    "    \n",
    "cv2.imshow('girl face detection',img)\n",
    "cv2.waitKey(0)\n",
    "cv2.destroyAllWindows()"
   ]
  },
  {
   "cell_type": "code",
   "execution_count": null,
   "metadata": {},
   "outputs": [],
   "source": [
    "cv2.imwrite('face_des.png',img)"
   ]
  },
  {
   "cell_type": "code",
   "execution_count": null,
   "metadata": {},
   "outputs": [],
   "source": []
  },
  {
   "cell_type": "code",
   "execution_count": null,
   "metadata": {},
   "outputs": [],
   "source": [
    "face_descriptors"
   ]
  },
  {
   "cell_type": "code",
   "execution_count": null,
   "metadata": {},
   "outputs": [],
   "source": []
  }
 ],
 "metadata": {
  "kernelspec": {
   "display_name": "Python 3 (ipykernel)",
   "language": "python",
   "name": "python3"
  },
  "language_info": {
   "codemirror_mode": {
    "name": "ipython",
    "version": 3
   },
   "file_extension": ".py",
   "mimetype": "text/x-python",
   "name": "python",
   "nbconvert_exporter": "python",
   "pygments_lexer": "ipython3",
   "version": "3.10.9"
  }
 },
 "nbformat": 4,
 "nbformat_minor": 4
}
