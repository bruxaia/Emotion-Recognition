{
 "cells": [
  {
   "cell_type": "code",
   "execution_count": 1,
   "metadata": {},
   "outputs": [],
   "source": [
    "import numpy as np\n",
    "import cv2 # opencv library"
   ]
  },
  {
   "cell_type": "code",
   "execution_count": 2,
   "metadata": {},
   "outputs": [],
   "source": [
    "img = cv2.imread('./images/car_001.jpg') # bgr , # 8 bit"
   ]
  },
  {
   "cell_type": "code",
   "execution_count": 3,
   "metadata": {},
   "outputs": [
    {
     "name": "stdout",
     "output_type": "stream",
     "text": [
      "[[[120 115 106]\n",
      "  [ 67  62  53]\n",
      "  [ 63  57  50]\n",
      "  ...\n",
      "  [151 137 125]\n",
      "  [ 98  92  85]\n",
      "  [ 59  56  52]]\n",
      "\n",
      " [[110 105  96]\n",
      "  [ 61  56  47]\n",
      "  [ 67  61  54]\n",
      "  ...\n",
      "  [177 165 153]\n",
      "  [117 111 106]\n",
      "  [ 84  81  77]]\n",
      "\n",
      " [[106  98  91]\n",
      "  [ 66  58  51]\n",
      "  [ 73  65  58]\n",
      "  ...\n",
      "  [150 138 126]\n",
      "  [ 82  76  71]\n",
      "  [ 58  56  55]]\n",
      "\n",
      " ...\n",
      "\n",
      " [[  6  17  25]\n",
      "  [ 10  21  29]\n",
      "  [  1  13  19]\n",
      "  ...\n",
      "  [123 126 124]\n",
      "  [127 128 126]\n",
      "  [131 132 130]]\n",
      "\n",
      " [[  5  14  23]\n",
      "  [  0   0   7]\n",
      "  [  0  10  17]\n",
      "  ...\n",
      "  [141 146 144]\n",
      "  [146 151 149]\n",
      "  [149 154 152]]\n",
      "\n",
      " [[  0   8  15]\n",
      "  [ 17  25  32]\n",
      "  [ 29  37  44]\n",
      "  ...\n",
      "  [143 149 148]\n",
      "  [141 147 146]\n",
      "  [141 147 146]]]\n"
     ]
    }
   ],
   "source": [
    "print(img) # 3d (row, col, channel)"
   ]
  },
  {
   "cell_type": "code",
   "execution_count": 4,
   "metadata": {},
   "outputs": [
    {
     "data": {
      "text/plain": [
       "255"
      ]
     },
     "execution_count": 4,
     "metadata": {},
     "output_type": "execute_result"
    }
   ],
   "source": [
    "img.max()"
   ]
  },
  {
   "cell_type": "code",
   "execution_count": 5,
   "metadata": {},
   "outputs": [
    {
     "data": {
      "text/plain": [
       "0"
      ]
     },
     "execution_count": 5,
     "metadata": {},
     "output_type": "execute_result"
    }
   ],
   "source": [
    "img.min()"
   ]
  },
  {
   "cell_type": "code",
   "execution_count": 6,
   "metadata": {},
   "outputs": [
    {
     "data": {
      "text/plain": [
       "(423, 678, 3)"
      ]
     },
     "execution_count": 6,
     "metadata": {},
     "output_type": "execute_result"
    }
   ],
   "source": [
    "img.shape"
   ]
  },
  {
   "cell_type": "code",
   "execution_count": 7,
   "metadata": {},
   "outputs": [],
   "source": [
    "img1 = cv2.imread('./images/0021.jpg')"
   ]
  },
  {
   "cell_type": "code",
   "execution_count": 8,
   "metadata": {},
   "outputs": [
    {
     "data": {
      "text/plain": [
       "numpy.ndarray"
      ]
     },
     "execution_count": 8,
     "metadata": {},
     "output_type": "execute_result"
    }
   ],
   "source": [
    "type(img1)"
   ]
  },
  {
   "cell_type": "markdown",
   "metadata": {},
   "source": [
    "# Display"
   ]
  },
  {
   "cell_type": "code",
   "execution_count": 9,
   "metadata": {},
   "outputs": [
    {
     "name": "stderr",
     "output_type": "stream",
     "text": [
      "2023-11-29 13:30:57.164 Python[41951:1422213] WARNING: Secure coding is not enabled for restorable state! Enable secure coding by implementing NSApplicationDelegate.applicationSupportsSecureRestorableState: and returning YES.\n"
     ]
    }
   ],
   "source": [
    "cv2.imshow('orignal image',img)\n",
    "cv2.waitKey(10000) # this command will the the windows for n milliseconds \n",
    "cv2.destroyAllWindows()"
   ]
  },
  {
   "cell_type": "code",
   "execution_count": null,
   "metadata": {},
   "outputs": [],
   "source": [
    "cv2.imshow('orignal image',img)\n",
    "cv2.waitKey(0) # this command display the windown untill you press x or any keybaord key\n",
    "cv2.destroyAllWindows()"
   ]
  },
  {
   "cell_type": "code",
   "execution_count": null,
   "metadata": {},
   "outputs": [],
   "source": [
    "import matplotlib.pyplot as plt"
   ]
  },
  {
   "cell_type": "code",
   "execution_count": null,
   "metadata": {},
   "outputs": [],
   "source": [
    "# img BGR\n",
    "plt.imshow(img[:,:,[2,1,0]]) # assume that image is in RGB format\n",
    "plt.show()"
   ]
  },
  {
   "cell_type": "markdown",
   "metadata": {},
   "source": [
    "# Save Image"
   ]
  },
  {
   "cell_type": "code",
   "execution_count": null,
   "metadata": {},
   "outputs": [],
   "source": [
    "cv2.imwrite('./images/save.png',img)"
   ]
  },
  {
   "cell_type": "markdown",
   "metadata": {},
   "source": [
    "---"
   ]
  }
 ],
 "metadata": {
  "kernelspec": {
   "display_name": "Python 3 (ipykernel)",
   "language": "python",
   "name": "python3"
  },
  "language_info": {
   "codemirror_mode": {
    "name": "ipython",
    "version": 3
   },
   "file_extension": ".py",
   "mimetype": "text/x-python",
   "name": "python",
   "nbconvert_exporter": "python",
   "pygments_lexer": "ipython3",
   "version": "3.10.9"
  }
 },
 "nbformat": 4,
 "nbformat_minor": 4
}
