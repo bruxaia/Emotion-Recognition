{
 "cells": [
  {
   "cell_type": "code",
   "execution_count": 2,
   "id": "68b170e9",
   "metadata": {},
   "outputs": [],
   "source": [
    "import cv2\n",
    "import numpy as np"
   ]
  },
  {
   "cell_type": "code",
   "execution_count": 3,
   "id": "76921c1f",
   "metadata": {},
   "outputs": [],
   "source": [
    "canvas = np.zeros((300,300,3),dtype ='uint8')"
   ]
  },
  {
   "cell_type": "code",
   "execution_count": 4,
   "id": "08de9c62",
   "metadata": {},
   "outputs": [],
   "source": [
    "cv2.imshow('canvas',canvas)\n",
    "cv2.waitKey(0)\n",
    "cv2.destroyAllWindows()"
   ]
  },
  {
   "cell_type": "markdown",
   "id": "bebb7e10",
   "metadata": {},
   "source": [
    "# Line"
   ]
  },
  {
   "cell_type": "code",
   "execution_count": 6,
   "id": "27e1c54b",
   "metadata": {},
   "outputs": [],
   "source": [
    "pt1 =(0,0)\n",
    "pt2 =(300,300)\n",
    "color =(0,255,0)\n",
    "cv2.line(canvas,pt1,pt2,color,)\n",
    "\n",
    "cv2.imshow('canvas',canvas)\n",
    "cv2.waitKey(0)\n",
    "cv2.destroyAllWindows()"
   ]
  },
  {
   "cell_type": "code",
   "execution_count": 7,
   "id": "570edb0f",
   "metadata": {},
   "outputs": [],
   "source": [
    "pt1 =  (0,300)\n",
    "pt2 = (300,0)\n",
    "cv2.line(canvas,pt1,pt2,(0,0,255),5)\n",
    "\n",
    "cv2.imshow('canvas',canvas)\n",
    "cv2.waitKey(0)\n",
    "cv2.destroyAllWindows()"
   ]
  },
  {
   "cell_type": "markdown",
   "id": "32aeca3b",
   "metadata": {},
   "source": [
    "# Rectangle"
   ]
  },
  {
   "cell_type": "code",
   "execution_count": 8,
   "id": "8646f3f0",
   "metadata": {},
   "outputs": [],
   "source": [
    "canvas = np.zeros((600,600,3), dtype='uint8')\n",
    "cv2.imshow('canvas',canvas)\n",
    "cv2.waitKey(0)\n",
    "cv2.destroyAllWindows()"
   ]
  },
  {
   "cell_type": "code",
   "execution_count": 24,
   "id": "8903b889",
   "metadata": {},
   "outputs": [],
   "source": [
    "pt1 = (50,50)\n",
    "pt2 = (100,100)\n",
    "color = (255,0,0)\n",
    "cv2.rectangle(canvas,pt1,pt2,color)\n",
    "cv2.rectangle(canvas,(100,100),(200,200),(0,255,0),5)\n",
    "cv2.rectangle(canvas,(200,200),(300,300),(0,0,255),-1)\n",
    "\n",
    "cv2.imshow('canvas',canvas)\n",
    "cv2.waitKey(0)\n",
    "cv2.destroyAllWindows()"
   ]
  },
  {
   "cell_type": "markdown",
   "id": "92f98297",
   "metadata": {},
   "source": [
    "# Polygon"
   ]
  },
  {
   "cell_type": "code",
   "execution_count": 25,
   "id": "d399d118",
   "metadata": {},
   "outputs": [],
   "source": [
    "canvas = 255*np.ones((600,600,3), dtype='uint8')\n",
    "\n",
    "cv2.imshow('canvas',canvas)\n",
    "cv2.waitKey(0)\n",
    "cv2.destroyAllWindows()"
   ]
  },
  {
   "cell_type": "code",
   "execution_count": 23,
   "id": "e2b8ab99",
   "metadata": {},
   "outputs": [],
   "source": [
    "# points of hexagon\n",
    "pts =np.array([[200,200],[250,300],[350,300],[400,200],[350,100],[250,100]])\n",
    "pts = pts.reshape((-1,1,2))\n",
    "cv2.polylines(canvas,[pts],True,(255,0,0),5)\n",
    "\n",
    "pts =np.array([[100,200],[150,300],[250,300],[300,200],[250,100],[150,100]])\n",
    "pts = pts.reshape((-1,1,2))\n",
    "cv2.polylines(canvas,[pts],True,(255,0,255),5)\n",
    "\n",
    "cv2.imshow('canvas',canvas)\n",
    "cv2.waitKey(0)\n",
    "cv2.destroyAllWindows()"
   ]
  },
  {
   "cell_type": "markdown",
   "id": "9dfb9f6c",
   "metadata": {},
   "source": [
    "# Circles"
   ]
  },
  {
   "cell_type": "code",
   "execution_count": 4,
   "id": "29193ae5",
   "metadata": {},
   "outputs": [],
   "source": [
    "canvas = 255*np.ones((600,900,3), dtype='uint8')\n",
    "cv2.imshow('canvas',canvas)\n",
    "cv2.waitKey(0)\n",
    "cv2.destroyAllWindows()"
   ]
  },
  {
   "cell_type": "code",
   "execution_count": 8,
   "id": "47c492c9",
   "metadata": {},
   "outputs": [],
   "source": [
    "cv2.circle(canvas,(100,200),100,(255,0,0),5)\n",
    "cv2.circle(canvas,(400,200),100,(0,255,0),5)\n",
    "cv2.circle(canvas,(700,200),100,(0,0,255),5)\n",
    "cv2.circle(canvas,(250,300),100,(255,0,255),5)\n",
    "cv2.circle(canvas,(550,300),100,(255,255,0),5)\n",
    "\n",
    "cv2.imshow('canvas',canvas)\n",
    "cv2.waitKey(0)\n",
    "cv2.destroyAllWindows()"
   ]
  },
  {
   "cell_type": "markdown",
   "id": "ec156c94",
   "metadata": {},
   "source": [
    "# Text"
   ]
  },
  {
   "cell_type": "code",
   "execution_count": 7,
   "id": "2704b7f9",
   "metadata": {},
   "outputs": [],
   "source": [
    "cv2.putText(canvas,'Olympics',(200,500),cv2.FONT_HERSHEY_PLAIN,5,(0,0,0),5)\n",
    "\n",
    "cv2.imshow('canvas',canvas)\n",
    "cv2.waitKey(0)\n",
    "cv2.destroyAllWindows()"
   ]
  }
 ],
 "metadata": {
  "kernelspec": {
   "display_name": "Python 3 (ipykernel)",
   "language": "python",
   "name": "python3"
  },
  "language_info": {
   "codemirror_mode": {
    "name": "ipython",
    "version": 3
   },
   "file_extension": ".py",
   "mimetype": "text/x-python",
   "name": "python",
   "nbconvert_exporter": "python",
   "pygments_lexer": "ipython3",
   "version": "3.10.0"
  }
 },
 "nbformat": 4,
 "nbformat_minor": 5
}
