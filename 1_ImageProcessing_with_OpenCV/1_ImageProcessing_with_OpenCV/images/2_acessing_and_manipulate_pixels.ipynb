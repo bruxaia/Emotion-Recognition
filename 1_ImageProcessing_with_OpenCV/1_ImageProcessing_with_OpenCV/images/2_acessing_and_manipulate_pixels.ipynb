{
 "cells": [
  {
   "cell_type": "markdown",
   "id": "adba9ef7",
   "metadata": {},
   "source": [
    "# Acess"
   ]
  },
  {
   "cell_type": "code",
   "execution_count": 15,
   "id": "8848065e",
   "metadata": {},
   "outputs": [],
   "source": [
    "import numpy as np\n",
    "import cv2"
   ]
  },
  {
   "cell_type": "code",
   "execution_count": 7,
   "id": "0abf04a9",
   "metadata": {},
   "outputs": [],
   "source": [
    "img = cv2.imread('./car_001.jpg')"
   ]
  },
  {
   "cell_type": "code",
   "execution_count": 8,
   "id": "04373f47",
   "metadata": {},
   "outputs": [
    {
     "data": {
      "text/plain": [
       "(423, 678, 3)"
      ]
     },
     "execution_count": 8,
     "metadata": {},
     "output_type": "execute_result"
    }
   ],
   "source": [
    "img.shape"
   ]
  },
  {
   "cell_type": "code",
   "execution_count": 9,
   "id": "f927f12e",
   "metadata": {},
   "outputs": [],
   "source": [
    "def display(winame,image):\n",
    "    cv2.imshow(winame,image)\n",
    "    cv2.waitKey(0)\n",
    "    cv2.destroyAllWindows()"
   ]
  },
  {
   "cell_type": "code",
   "execution_count": 10,
   "id": "811a912a",
   "metadata": {},
   "outputs": [],
   "source": [
    "display('tonu',img)"
   ]
  },
  {
   "cell_type": "code",
   "execution_count": 12,
   "id": "b204e09e",
   "metadata": {},
   "outputs": [
    {
     "data": {
      "text/plain": [
       "numpy.ndarray"
      ]
     },
     "execution_count": 12,
     "metadata": {},
     "output_type": "execute_result"
    }
   ],
   "source": [
    "type(img)"
   ]
  },
  {
   "cell_type": "code",
   "execution_count": 13,
   "id": "35393bfa",
   "metadata": {},
   "outputs": [],
   "source": [
    "# access first 300 rows and (height) and first 300 columns (width) of the image (numpy array)\n",
    "roi = img[0:300,0:300] "
   ]
  },
  {
   "cell_type": "code",
   "execution_count": 14,
   "id": "b642789f",
   "metadata": {},
   "outputs": [],
   "source": [
    "display('acess',roi)"
   ]
  },
  {
   "cell_type": "markdown",
   "id": "2a529d23",
   "metadata": {},
   "source": [
    "# Manipulate"
   ]
  },
  {
   "cell_type": "code",
   "execution_count": 18,
   "id": "e130e9ef",
   "metadata": {},
   "outputs": [],
   "source": [
    "green_pixel = (0,255,0)\n",
    "img[0:300,0:300]  = green_pixel"
   ]
  },
  {
   "cell_type": "code",
   "execution_count": 19,
   "id": "8c0eaae8",
   "metadata": {},
   "outputs": [],
   "source": [
    "display('manipulate',img)"
   ]
  }
 ],
 "metadata": {
  "kernelspec": {
   "display_name": "Python 3 (ipykernel)",
   "language": "python",
   "name": "python3"
  },
  "language_info": {
   "codemirror_mode": {
    "name": "ipython",
    "version": 3
   },
   "file_extension": ".py",
   "mimetype": "text/x-python",
   "name": "python",
   "nbconvert_exporter": "python",
   "pygments_lexer": "ipython3",
   "version": "3.10.0"
  }
 },
 "nbformat": 4,
 "nbformat_minor": 5
}
