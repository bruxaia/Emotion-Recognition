{
 "cells": [
  {
   "cell_type": "code",
   "execution_count": 2,
   "id": "14611f00",
   "metadata": {},
   "outputs": [],
   "source": [
    "import numpy as np\n",
    "import cv2"
   ]
  },
  {
   "cell_type": "markdown",
   "id": "1bbf1768",
   "metadata": {},
   "source": [
    "# Face Detection"
   ]
  },
  {
   "cell_type": "code",
   "execution_count": 3,
   "id": "21c04cbb",
   "metadata": {},
   "outputs": [],
   "source": [
    "img = cv2.imread('./images/0021.jpg')\n",
    "\n",
    "cv2.imshow('image',img)\n",
    "cv2.waitKey(0)\n",
    "cv2.destroyAllWindows()"
   ]
  },
  {
   "cell_type": "code",
   "execution_count": 4,
   "id": "c73196c5",
   "metadata": {},
   "outputs": [],
   "source": [
    "# Load cascade classifier - frontalface\n",
    "\n",
    "face_cascade = cv2.CascadeClassifier('./cascade_classifiere/haarcascade_frontalface_default.xml')"
   ]
  },
  {
   "cell_type": "code",
   "execution_count": 5,
   "id": "a3dc584a",
   "metadata": {},
   "outputs": [],
   "source": [
    "# apply cascade classifier to an image\n",
    "faces,num_detection = face_cascade.detectMultiScale2(img)"
   ]
  },
  {
   "cell_type": "code",
   "execution_count": 6,
   "id": "b26c65af",
   "metadata": {},
   "outputs": [
    {
     "name": "stdout",
     "output_type": "stream",
     "text": [
      "[[114  40 196 196]]\n"
     ]
    }
   ],
   "source": [
    "print(faces)"
   ]
  },
  {
   "cell_type": "code",
   "execution_count": 7,
   "id": "07f0113c",
   "metadata": {},
   "outputs": [
    {
     "name": "stdout",
     "output_type": "stream",
     "text": [
      "[89]\n"
     ]
    }
   ],
   "source": [
    "print(num_detection)"
   ]
  },
  {
   "cell_type": "code",
   "execution_count": 8,
   "id": "b80c9630",
   "metadata": {},
   "outputs": [],
   "source": [
    "pt1 =(114,40)\n",
    "pt2 = (114+196, 40+196)\n",
    "# draw the rectangle \n",
    "cv2.rectangle(img,pt1,pt2,(0,255,0))\n",
    "cv2.imshow('face detection',img)\n",
    "cv2.waitKey(0)\n",
    "cv2.destroyAllWindows()"
   ]
  },
  {
   "cell_type": "code",
   "execution_count": 10,
   "id": "4367733d",
   "metadata": {},
   "outputs": [],
   "source": [
    "# draw the circle\n",
    "cx = 114 + 196//2\n",
    "cy = 40+ 196 //2\n",
    "r = 196 //2\n",
    "\n",
    "cv2.circle(img,(cx,cy),r,(0,255,255),2)\n",
    "cv2.imshow('face detection circle',img)\n",
    "cv2.waitKey(0)\n",
    "cv2.destroyAllWindows()"
   ]
  },
  {
   "cell_type": "markdown",
   "id": "4f672783",
   "metadata": {},
   "source": [
    "# Multiple  Face Detection"
   ]
  },
  {
   "cell_type": "code",
   "execution_count": 24,
   "id": "2f7f6179",
   "metadata": {},
   "outputs": [],
   "source": [
    "img = cv2.imread('./images/friends.jpg')\n",
    "\n",
    "cv2.imshow('image',img)\n",
    "cv2.waitKey(0)\n",
    "cv2.destroyAllWindows()"
   ]
  },
  {
   "cell_type": "code",
   "execution_count": 25,
   "id": "18e06bef",
   "metadata": {},
   "outputs": [],
   "source": [
    "# Load cascade classifier - frontalface\n",
    "\n",
    "face_cascade = cv2.CascadeClassifier('./cascade_classifiere/haarcascade_frontalface_default.xml')\n",
    "\n",
    "# step-1: apply cascade classifier to an image\n",
    "faces, num_detection = face_cascade.detectMultiScale2(img,minNeighbors=8)\n",
    "# step-2: run a loop\n",
    "for x,y,w,h in faces:\n",
    "    cv2.rectangle(img,(x,y),(x+w,y+h),(0,255,0))\n",
    "\n",
    "# step 3: display the image\n",
    "cv2.imshow('face detection',img)\n",
    "cv2.waitKey(0)\n",
    "cv2.destroyAllWindows()\n"
   ]
  },
  {
   "cell_type": "code",
   "execution_count": 15,
   "id": "ffe18e0f",
   "metadata": {},
   "outputs": [
    {
     "name": "stdout",
     "output_type": "stream",
     "text": [
      "[104  84  71]\n"
     ]
    }
   ],
   "source": [
    "print(num_detection)"
   ]
  },
  {
   "cell_type": "markdown",
   "id": "3a314576",
   "metadata": {},
   "source": [
    "# Faces and Eyes Detection"
   ]
  },
  {
   "cell_type": "code",
   "execution_count": 8,
   "id": "d7496932",
   "metadata": {},
   "outputs": [],
   "source": [
    "img = cv2.imread('./images/friends.jpg')\n",
    "\n",
    "cv2.imshow('image',img)\n",
    "cv2.waitKey(0)\n",
    "cv2.destroyAllWindows()"
   ]
  },
  {
   "cell_type": "code",
   "execution_count": 4,
   "id": "79166a0e",
   "metadata": {},
   "outputs": [],
   "source": [
    "face_cascade = cv2.CascadeClassifier('./cascade_classifiere/haarcascade_frontalface_default.xml')\n",
    "eye_cascade = cv2.CascadeClassifier('./cascade_classifiere/haarcascade_eye.xml')"
   ]
  },
  {
   "cell_type": "code",
   "execution_count": 10,
   "id": "d17213d1",
   "metadata": {},
   "outputs": [],
   "source": [
    "# step -1 : Face Detection\n",
    "faces, num_detection_face = face_cascade.detectMultiScale2(img,minNeighbors=8)\n",
    "for x,y,w,h in faces:\n",
    "    cv2.rectangle(img,(x,y),(x+w,y+h),(0,255,0))\n",
    "    \n",
    "    # step -2: Cropping the face\n",
    "    face_roi = img[y:y+h,x:x+h] # cropping the image\n",
    "    # step -3: apply to cascade classifier (eye)\n",
    "    eyes,num_detection_eyes = eye_cascade.detectMultiScale2(face_roi)\n",
    "    for ex, ey, ew, eh in eyes: # eye x,y and width and height position\n",
    "        cx = x+ex+ew//2\n",
    "        cy = y+ey+eh//2\n",
    "        r = eh //2\n",
    "        cv2.circle(img,(cx,cy),r,(255,0,255),2)\n",
    "        \n",
    "        \n",
    "# step -3 display:\n",
    "cv2.imshow('face eye detection', img)\n",
    "cv2.waitKey(0)\n",
    "cv2.destroyAllWindows()"
   ]
  },
  {
   "cell_type": "markdown",
   "id": "f1867596",
   "metadata": {},
   "source": [
    "# Faces, Eyes, Smiles Detection"
   ]
  },
  {
   "cell_type": "code",
   "execution_count": 11,
   "id": "a9d4d3ce",
   "metadata": {},
   "outputs": [],
   "source": [
    "img = cv2.imread('./images/friends.jpg')\n",
    "\n",
    "cv2.imshow('image',img)\n",
    "cv2.waitKey(0)\n",
    "cv2.destroyAllWindows()"
   ]
  },
  {
   "cell_type": "code",
   "execution_count": 12,
   "id": "059d0a0e",
   "metadata": {},
   "outputs": [],
   "source": [
    "face_cascade = cv2.CascadeClassifier('./cascade_classifiere/haarcascade_frontalface_default.xml')\n",
    "eye_cascade = cv2.CascadeClassifier('./cascade_classifiere/haarcascade_eye.xml')\n",
    "smile_cascade = cv2.CascadeClassifier('./cascade_classifiere/haarcascade_smile.xml')\n",
    "\n",
    "# step -1 : Face Detection\n",
    "faces, num_detection_face = face_cascade.detectMultiScale2(img,minNeighbors=8)\n",
    "for x,y,w,h in faces:\n",
    "    face_roi = img[y:y+h,x:x+h].copy() # cropping the image\n",
    "    cv2.rectangle(img,(x,y),(x+w,y+h),(0,255,0))\n",
    "    \n",
    "   \n",
    "\n",
    "    # step -2: apply to cascade classifier (eye)\n",
    "    eyes,num_detection_eyes = eye_cascade.detectMultiScale2(face_roi)\n",
    "    for ex, ey, ew, eh in eyes: # eye x,y and width and height position\n",
    "        cx = x+ex+ew//2\n",
    "        cy = y+ey+eh//2\n",
    "        r = eh //2\n",
    "        cv2.circle(img,(cx,cy),r,(255,0,255),2)\n",
    "        \n",
    "        \n",
    "    # step -3: smile detection\n",
    "    smiles,num_detection_smile= smile_cascade.detectMultiScale2(face_roi)\n",
    "    for sx,sy, sw,sh in smiles:\n",
    "        cv2.rectangle(img,(x+sx,y+sy),(x+sx+sw,y+sy+sh),(255,0,0),2)\n",
    "        \n",
    "        \n",
    "# step -4 display:\n",
    "cv2.imshow('face eye smile detection', img)\n",
    "cv2.waitKey(0)\n",
    "cv2.destroyAllWindows()"
   ]
  },
  {
   "cell_type": "code",
   "execution_count": null,
   "id": "03c446ee",
   "metadata": {},
   "outputs": [],
   "source": []
  }
 ],
 "metadata": {
  "kernelspec": {
   "display_name": "Python 3 (ipykernel)",
   "language": "python",
   "name": "python3"
  },
  "language_info": {
   "codemirror_mode": {
    "name": "ipython",
    "version": 3
   },
   "file_extension": ".py",
   "mimetype": "text/x-python",
   "name": "python",
   "nbconvert_exporter": "python",
   "pygments_lexer": "ipython3",
   "version": "3.10.0"
  }
 },
 "nbformat": 4,
 "nbformat_minor": 5
}
